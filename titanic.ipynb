{
  "nbformat": 4,
  "nbformat_minor": 0,
  "metadata": {
    "colab": {
      "name": "titanic",
      "provenance": [],
      "collapsed_sections": []
    },
    "kernelspec": {
      "name": "python3",
      "display_name": "Python 3"
    },
    "language_info": {
      "name": "python"
    }
  },
  "cells": [
    {
      "cell_type": "markdown",
      "source": [
        "##**Importing libraries and opening the files on Google Colab:**"
      ],
      "metadata": {
        "id": "mYmV5a3OtDiA"
      }
    },
    {
      "cell_type": "code",
      "execution_count": null,
      "metadata": {
        "id": "ifjRvnp_ef-n"
      },
      "outputs": [],
      "source": [
        "import pandas as pd\n",
        "import numpy as np\n",
        "import matplotlib.pyplot as plt\n",
        "plt.rc(\"font\", size = 14)\n",
        "%matplotlib inline\n",
        "import seaborn as sns\n",
        "sns.set(style = \"white\") #white background style for seaborn plots\n",
        "sns.set(style = \"whitegrid\", color_codes = True)\n",
        "from sklearn import preprocessing"
      ]
    },
    {
      "cell_type": "code",
      "source": [
        "from google.colab import drive\n",
        "drive.mount('/content/drive')"
      ],
      "metadata": {
        "colab": {
          "base_uri": "https://localhost:8080/"
        },
        "id": "-tvuIwPoovUm",
        "outputId": "ebaf0a65-7cf4-4225-c4f3-235bf2160375"
      },
      "execution_count": null,
      "outputs": [
        {
          "output_type": "stream",
          "name": "stdout",
          "text": [
            "Mounted at /content/drive\n"
          ]
        }
      ]
    },
    {
      "cell_type": "code",
      "source": [
        "import os\n",
        "os.environ['KAGGLE_CONFIG_DIR'] = \"/content/drive/MyDrive/Kaggle\""
      ],
      "metadata": {
        "id": "ojev8eoVo5T1"
      },
      "execution_count": null,
      "outputs": []
    },
    {
      "cell_type": "code",
      "source": [
        "%cd /content/drive/MyDrive/Kaggle/"
      ],
      "metadata": {
        "colab": {
          "base_uri": "https://localhost:8080/"
        },
        "id": "SwkWcvWio8hl",
        "outputId": "53646a79-84b1-4938-9c60-45ecf2524640"
      },
      "execution_count": null,
      "outputs": [
        {
          "output_type": "stream",
          "name": "stdout",
          "text": [
            "/content/drive/MyDrive/Kaggle\n"
          ]
        }
      ]
    },
    {
      "cell_type": "code",
      "source": [
        "! kaggle competitions download -c titanic"
      ],
      "metadata": {
        "colab": {
          "base_uri": "https://localhost:8080/"
        },
        "id": "79oRMzUuqEW2",
        "outputId": "87658c42-16ad-422a-8653-7ac61ef133f5"
      },
      "execution_count": null,
      "outputs": [
        {
          "output_type": "stream",
          "name": "stdout",
          "text": [
            "Downloading titanic.zip to /content/drive/MyDrive/Kaggle\n",
            "\r  0% 0.00/34.1k [00:00<?, ?B/s]\n",
            "\r100% 34.1k/34.1k [00:00<00:00, 6.38MB/s]\n"
          ]
        }
      ]
    },
    {
      "cell_type": "code",
      "source": [
        "!unzip \"/content/titanic.zip\""
      ],
      "metadata": {
        "colab": {
          "base_uri": "https://localhost:8080/"
        },
        "id": "2hsV7hAZqNlV",
        "outputId": "736467c1-c30d-4c09-8868-97b767346aa2"
      },
      "execution_count": null,
      "outputs": [
        {
          "output_type": "stream",
          "name": "stdout",
          "text": [
            "unzip:  cannot find or open /content/titanic.zip, /content/titanic.zip.zip or /content/titanic.zip.ZIP.\n"
          ]
        }
      ]
    },
    {
      "cell_type": "code",
      "source": [
        "%ls"
      ],
      "metadata": {
        "colab": {
          "base_uri": "https://localhost:8080/"
        },
        "id": "4ncMgcCcrlFk",
        "outputId": "eb6d2e2e-2de2-4240-cf96-c7c4f8c976dd"
      },
      "execution_count": null,
      "outputs": [
        {
          "output_type": "stream",
          "name": "stdout",
          "text": [
            "gender_submission.csv  kaggle.json  test.csv  titanic.zip  train.csv\n"
          ]
        }
      ]
    },
    {
      "cell_type": "code",
      "source": [
        "!rm titanic.zip"
      ],
      "metadata": {
        "id": "xWq6xo5zsB0m"
      },
      "execution_count": null,
      "outputs": []
    },
    {
      "cell_type": "code",
      "source": [
        "%ls"
      ],
      "metadata": {
        "colab": {
          "base_uri": "https://localhost:8080/"
        },
        "id": "KQusc4UfsYy-",
        "outputId": "a710aa8d-d78c-45dc-b8ac-2b31092d02c0"
      },
      "execution_count": null,
      "outputs": [
        {
          "output_type": "stream",
          "name": "stdout",
          "text": [
            "gender_submission.csv  kaggle.json  test.csv  train.csv\n"
          ]
        }
      ]
    },
    {
      "cell_type": "code",
      "source": [
        "train = pd.read_csv(\"/content/drive/MyDrive/Kaggle/train.csv\")\n",
        "test = pd.read_csv(\"/content/drive/MyDrive/Kaggle/test.csv\")"
      ],
      "metadata": {
        "id": "Q06V1PGisENu"
      },
      "execution_count": null,
      "outputs": []
    },
    {
      "cell_type": "code",
      "source": [
        "train.head(8)"
      ],
      "metadata": {
        "colab": {
          "base_uri": "https://localhost:8080/",
          "height": 300
        },
        "id": "Evg-cynus3_O",
        "outputId": "46b48911-915e-452e-ba4d-888b08671dc4"
      },
      "execution_count": null,
      "outputs": [
        {
          "output_type": "execute_result",
          "data": {
            "text/plain": [
              "   PassengerId  Survived  Pclass  \\\n",
              "0            1         0       3   \n",
              "1            2         1       1   \n",
              "2            3         1       3   \n",
              "3            4         1       1   \n",
              "4            5         0       3   \n",
              "5            6         0       3   \n",
              "6            7         0       1   \n",
              "7            8         0       3   \n",
              "\n",
              "                                                Name     Sex   Age  SibSp  \\\n",
              "0                            Braund, Mr. Owen Harris    male  22.0      1   \n",
              "1  Cumings, Mrs. John Bradley (Florence Briggs Th...  female  38.0      1   \n",
              "2                             Heikkinen, Miss. Laina  female  26.0      0   \n",
              "3       Futrelle, Mrs. Jacques Heath (Lily May Peel)  female  35.0      1   \n",
              "4                           Allen, Mr. William Henry    male  35.0      0   \n",
              "5                                   Moran, Mr. James    male   NaN      0   \n",
              "6                            McCarthy, Mr. Timothy J    male  54.0      0   \n",
              "7                     Palsson, Master. Gosta Leonard    male   2.0      3   \n",
              "\n",
              "   Parch            Ticket     Fare Cabin Embarked  \n",
              "0      0         A/5 21171   7.2500   NaN        S  \n",
              "1      0          PC 17599  71.2833   C85        C  \n",
              "2      0  STON/O2. 3101282   7.9250   NaN        S  \n",
              "3      0            113803  53.1000  C123        S  \n",
              "4      0            373450   8.0500   NaN        S  \n",
              "5      0            330877   8.4583   NaN        Q  \n",
              "6      0             17463  51.8625   E46        S  \n",
              "7      1            349909  21.0750   NaN        S  "
            ],
            "text/html": [
              "\n",
              "  <div id=\"df-db820441-779d-44ff-aca8-f04cb4c57c5a\">\n",
              "    <div class=\"colab-df-container\">\n",
              "      <div>\n",
              "<style scoped>\n",
              "    .dataframe tbody tr th:only-of-type {\n",
              "        vertical-align: middle;\n",
              "    }\n",
              "\n",
              "    .dataframe tbody tr th {\n",
              "        vertical-align: top;\n",
              "    }\n",
              "\n",
              "    .dataframe thead th {\n",
              "        text-align: right;\n",
              "    }\n",
              "</style>\n",
              "<table border=\"1\" class=\"dataframe\">\n",
              "  <thead>\n",
              "    <tr style=\"text-align: right;\">\n",
              "      <th></th>\n",
              "      <th>PassengerId</th>\n",
              "      <th>Survived</th>\n",
              "      <th>Pclass</th>\n",
              "      <th>Name</th>\n",
              "      <th>Sex</th>\n",
              "      <th>Age</th>\n",
              "      <th>SibSp</th>\n",
              "      <th>Parch</th>\n",
              "      <th>Ticket</th>\n",
              "      <th>Fare</th>\n",
              "      <th>Cabin</th>\n",
              "      <th>Embarked</th>\n",
              "    </tr>\n",
              "  </thead>\n",
              "  <tbody>\n",
              "    <tr>\n",
              "      <th>0</th>\n",
              "      <td>1</td>\n",
              "      <td>0</td>\n",
              "      <td>3</td>\n",
              "      <td>Braund, Mr. Owen Harris</td>\n",
              "      <td>male</td>\n",
              "      <td>22.0</td>\n",
              "      <td>1</td>\n",
              "      <td>0</td>\n",
              "      <td>A/5 21171</td>\n",
              "      <td>7.2500</td>\n",
              "      <td>NaN</td>\n",
              "      <td>S</td>\n",
              "    </tr>\n",
              "    <tr>\n",
              "      <th>1</th>\n",
              "      <td>2</td>\n",
              "      <td>1</td>\n",
              "      <td>1</td>\n",
              "      <td>Cumings, Mrs. John Bradley (Florence Briggs Th...</td>\n",
              "      <td>female</td>\n",
              "      <td>38.0</td>\n",
              "      <td>1</td>\n",
              "      <td>0</td>\n",
              "      <td>PC 17599</td>\n",
              "      <td>71.2833</td>\n",
              "      <td>C85</td>\n",
              "      <td>C</td>\n",
              "    </tr>\n",
              "    <tr>\n",
              "      <th>2</th>\n",
              "      <td>3</td>\n",
              "      <td>1</td>\n",
              "      <td>3</td>\n",
              "      <td>Heikkinen, Miss. Laina</td>\n",
              "      <td>female</td>\n",
              "      <td>26.0</td>\n",
              "      <td>0</td>\n",
              "      <td>0</td>\n",
              "      <td>STON/O2. 3101282</td>\n",
              "      <td>7.9250</td>\n",
              "      <td>NaN</td>\n",
              "      <td>S</td>\n",
              "    </tr>\n",
              "    <tr>\n",
              "      <th>3</th>\n",
              "      <td>4</td>\n",
              "      <td>1</td>\n",
              "      <td>1</td>\n",
              "      <td>Futrelle, Mrs. Jacques Heath (Lily May Peel)</td>\n",
              "      <td>female</td>\n",
              "      <td>35.0</td>\n",
              "      <td>1</td>\n",
              "      <td>0</td>\n",
              "      <td>113803</td>\n",
              "      <td>53.1000</td>\n",
              "      <td>C123</td>\n",
              "      <td>S</td>\n",
              "    </tr>\n",
              "    <tr>\n",
              "      <th>4</th>\n",
              "      <td>5</td>\n",
              "      <td>0</td>\n",
              "      <td>3</td>\n",
              "      <td>Allen, Mr. William Henry</td>\n",
              "      <td>male</td>\n",
              "      <td>35.0</td>\n",
              "      <td>0</td>\n",
              "      <td>0</td>\n",
              "      <td>373450</td>\n",
              "      <td>8.0500</td>\n",
              "      <td>NaN</td>\n",
              "      <td>S</td>\n",
              "    </tr>\n",
              "    <tr>\n",
              "      <th>5</th>\n",
              "      <td>6</td>\n",
              "      <td>0</td>\n",
              "      <td>3</td>\n",
              "      <td>Moran, Mr. James</td>\n",
              "      <td>male</td>\n",
              "      <td>NaN</td>\n",
              "      <td>0</td>\n",
              "      <td>0</td>\n",
              "      <td>330877</td>\n",
              "      <td>8.4583</td>\n",
              "      <td>NaN</td>\n",
              "      <td>Q</td>\n",
              "    </tr>\n",
              "    <tr>\n",
              "      <th>6</th>\n",
              "      <td>7</td>\n",
              "      <td>0</td>\n",
              "      <td>1</td>\n",
              "      <td>McCarthy, Mr. Timothy J</td>\n",
              "      <td>male</td>\n",
              "      <td>54.0</td>\n",
              "      <td>0</td>\n",
              "      <td>0</td>\n",
              "      <td>17463</td>\n",
              "      <td>51.8625</td>\n",
              "      <td>E46</td>\n",
              "      <td>S</td>\n",
              "    </tr>\n",
              "    <tr>\n",
              "      <th>7</th>\n",
              "      <td>8</td>\n",
              "      <td>0</td>\n",
              "      <td>3</td>\n",
              "      <td>Palsson, Master. Gosta Leonard</td>\n",
              "      <td>male</td>\n",
              "      <td>2.0</td>\n",
              "      <td>3</td>\n",
              "      <td>1</td>\n",
              "      <td>349909</td>\n",
              "      <td>21.0750</td>\n",
              "      <td>NaN</td>\n",
              "      <td>S</td>\n",
              "    </tr>\n",
              "  </tbody>\n",
              "</table>\n",
              "</div>\n",
              "      <button class=\"colab-df-convert\" onclick=\"convertToInteractive('df-db820441-779d-44ff-aca8-f04cb4c57c5a')\"\n",
              "              title=\"Convert this dataframe to an interactive table.\"\n",
              "              style=\"display:none;\">\n",
              "        \n",
              "  <svg xmlns=\"http://www.w3.org/2000/svg\" height=\"24px\"viewBox=\"0 0 24 24\"\n",
              "       width=\"24px\">\n",
              "    <path d=\"M0 0h24v24H0V0z\" fill=\"none\"/>\n",
              "    <path d=\"M18.56 5.44l.94 2.06.94-2.06 2.06-.94-2.06-.94-.94-2.06-.94 2.06-2.06.94zm-11 1L8.5 8.5l.94-2.06 2.06-.94-2.06-.94L8.5 2.5l-.94 2.06-2.06.94zm10 10l.94 2.06.94-2.06 2.06-.94-2.06-.94-.94-2.06-.94 2.06-2.06.94z\"/><path d=\"M17.41 7.96l-1.37-1.37c-.4-.4-.92-.59-1.43-.59-.52 0-1.04.2-1.43.59L10.3 9.45l-7.72 7.72c-.78.78-.78 2.05 0 2.83L4 21.41c.39.39.9.59 1.41.59.51 0 1.02-.2 1.41-.59l7.78-7.78 2.81-2.81c.8-.78.8-2.07 0-2.86zM5.41 20L4 18.59l7.72-7.72 1.47 1.35L5.41 20z\"/>\n",
              "  </svg>\n",
              "      </button>\n",
              "      \n",
              "  <style>\n",
              "    .colab-df-container {\n",
              "      display:flex;\n",
              "      flex-wrap:wrap;\n",
              "      gap: 12px;\n",
              "    }\n",
              "\n",
              "    .colab-df-convert {\n",
              "      background-color: #E8F0FE;\n",
              "      border: none;\n",
              "      border-radius: 50%;\n",
              "      cursor: pointer;\n",
              "      display: none;\n",
              "      fill: #1967D2;\n",
              "      height: 32px;\n",
              "      padding: 0 0 0 0;\n",
              "      width: 32px;\n",
              "    }\n",
              "\n",
              "    .colab-df-convert:hover {\n",
              "      background-color: #E2EBFA;\n",
              "      box-shadow: 0px 1px 2px rgba(60, 64, 67, 0.3), 0px 1px 3px 1px rgba(60, 64, 67, 0.15);\n",
              "      fill: #174EA6;\n",
              "    }\n",
              "\n",
              "    [theme=dark] .colab-df-convert {\n",
              "      background-color: #3B4455;\n",
              "      fill: #D2E3FC;\n",
              "    }\n",
              "\n",
              "    [theme=dark] .colab-df-convert:hover {\n",
              "      background-color: #434B5C;\n",
              "      box-shadow: 0px 1px 3px 1px rgba(0, 0, 0, 0.15);\n",
              "      filter: drop-shadow(0px 1px 2px rgba(0, 0, 0, 0.3));\n",
              "      fill: #FFFFFF;\n",
              "    }\n",
              "  </style>\n",
              "\n",
              "      <script>\n",
              "        const buttonEl =\n",
              "          document.querySelector('#df-db820441-779d-44ff-aca8-f04cb4c57c5a button.colab-df-convert');\n",
              "        buttonEl.style.display =\n",
              "          google.colab.kernel.accessAllowed ? 'block' : 'none';\n",
              "\n",
              "        async function convertToInteractive(key) {\n",
              "          const element = document.querySelector('#df-db820441-779d-44ff-aca8-f04cb4c57c5a');\n",
              "          const dataTable =\n",
              "            await google.colab.kernel.invokeFunction('convertToInteractive',\n",
              "                                                     [key], {});\n",
              "          if (!dataTable) return;\n",
              "\n",
              "          const docLinkHtml = 'Like what you see? Visit the ' +\n",
              "            '<a target=\"_blank\" href=https://colab.research.google.com/notebooks/data_table.ipynb>data table notebook</a>'\n",
              "            + ' to learn more about interactive tables.';\n",
              "          element.innerHTML = '';\n",
              "          dataTable['output_type'] = 'display_data';\n",
              "          await google.colab.output.renderOutput(dataTable, element);\n",
              "          const docLink = document.createElement('div');\n",
              "          docLink.innerHTML = docLinkHtml;\n",
              "          element.appendChild(docLink);\n",
              "        }\n",
              "      </script>\n",
              "    </div>\n",
              "  </div>\n",
              "  "
            ]
          },
          "metadata": {},
          "execution_count": 13
        }
      ]
    },
    {
      "cell_type": "code",
      "source": [
        "test.head(8)"
      ],
      "metadata": {
        "colab": {
          "base_uri": "https://localhost:8080/",
          "height": 300
        },
        "id": "YPAshr6Ks6Mo",
        "outputId": "2ce578ef-623c-4c22-bd8a-f1692ac4ce2e"
      },
      "execution_count": null,
      "outputs": [
        {
          "output_type": "execute_result",
          "data": {
            "text/plain": [
              "   PassengerId  Pclass                                          Name     Sex  \\\n",
              "0          892       3                              Kelly, Mr. James    male   \n",
              "1          893       3              Wilkes, Mrs. James (Ellen Needs)  female   \n",
              "2          894       2                     Myles, Mr. Thomas Francis    male   \n",
              "3          895       3                              Wirz, Mr. Albert    male   \n",
              "4          896       3  Hirvonen, Mrs. Alexander (Helga E Lindqvist)  female   \n",
              "5          897       3                    Svensson, Mr. Johan Cervin    male   \n",
              "6          898       3                          Connolly, Miss. Kate  female   \n",
              "7          899       2                  Caldwell, Mr. Albert Francis    male   \n",
              "\n",
              "    Age  SibSp  Parch   Ticket     Fare Cabin Embarked  \n",
              "0  34.5      0      0   330911   7.8292   NaN        Q  \n",
              "1  47.0      1      0   363272   7.0000   NaN        S  \n",
              "2  62.0      0      0   240276   9.6875   NaN        Q  \n",
              "3  27.0      0      0   315154   8.6625   NaN        S  \n",
              "4  22.0      1      1  3101298  12.2875   NaN        S  \n",
              "5  14.0      0      0     7538   9.2250   NaN        S  \n",
              "6  30.0      0      0   330972   7.6292   NaN        Q  \n",
              "7  26.0      1      1   248738  29.0000   NaN        S  "
            ],
            "text/html": [
              "\n",
              "  <div id=\"df-09f1d0df-bf6f-4d74-9e88-719ee191abcf\">\n",
              "    <div class=\"colab-df-container\">\n",
              "      <div>\n",
              "<style scoped>\n",
              "    .dataframe tbody tr th:only-of-type {\n",
              "        vertical-align: middle;\n",
              "    }\n",
              "\n",
              "    .dataframe tbody tr th {\n",
              "        vertical-align: top;\n",
              "    }\n",
              "\n",
              "    .dataframe thead th {\n",
              "        text-align: right;\n",
              "    }\n",
              "</style>\n",
              "<table border=\"1\" class=\"dataframe\">\n",
              "  <thead>\n",
              "    <tr style=\"text-align: right;\">\n",
              "      <th></th>\n",
              "      <th>PassengerId</th>\n",
              "      <th>Pclass</th>\n",
              "      <th>Name</th>\n",
              "      <th>Sex</th>\n",
              "      <th>Age</th>\n",
              "      <th>SibSp</th>\n",
              "      <th>Parch</th>\n",
              "      <th>Ticket</th>\n",
              "      <th>Fare</th>\n",
              "      <th>Cabin</th>\n",
              "      <th>Embarked</th>\n",
              "    </tr>\n",
              "  </thead>\n",
              "  <tbody>\n",
              "    <tr>\n",
              "      <th>0</th>\n",
              "      <td>892</td>\n",
              "      <td>3</td>\n",
              "      <td>Kelly, Mr. James</td>\n",
              "      <td>male</td>\n",
              "      <td>34.5</td>\n",
              "      <td>0</td>\n",
              "      <td>0</td>\n",
              "      <td>330911</td>\n",
              "      <td>7.8292</td>\n",
              "      <td>NaN</td>\n",
              "      <td>Q</td>\n",
              "    </tr>\n",
              "    <tr>\n",
              "      <th>1</th>\n",
              "      <td>893</td>\n",
              "      <td>3</td>\n",
              "      <td>Wilkes, Mrs. James (Ellen Needs)</td>\n",
              "      <td>female</td>\n",
              "      <td>47.0</td>\n",
              "      <td>1</td>\n",
              "      <td>0</td>\n",
              "      <td>363272</td>\n",
              "      <td>7.0000</td>\n",
              "      <td>NaN</td>\n",
              "      <td>S</td>\n",
              "    </tr>\n",
              "    <tr>\n",
              "      <th>2</th>\n",
              "      <td>894</td>\n",
              "      <td>2</td>\n",
              "      <td>Myles, Mr. Thomas Francis</td>\n",
              "      <td>male</td>\n",
              "      <td>62.0</td>\n",
              "      <td>0</td>\n",
              "      <td>0</td>\n",
              "      <td>240276</td>\n",
              "      <td>9.6875</td>\n",
              "      <td>NaN</td>\n",
              "      <td>Q</td>\n",
              "    </tr>\n",
              "    <tr>\n",
              "      <th>3</th>\n",
              "      <td>895</td>\n",
              "      <td>3</td>\n",
              "      <td>Wirz, Mr. Albert</td>\n",
              "      <td>male</td>\n",
              "      <td>27.0</td>\n",
              "      <td>0</td>\n",
              "      <td>0</td>\n",
              "      <td>315154</td>\n",
              "      <td>8.6625</td>\n",
              "      <td>NaN</td>\n",
              "      <td>S</td>\n",
              "    </tr>\n",
              "    <tr>\n",
              "      <th>4</th>\n",
              "      <td>896</td>\n",
              "      <td>3</td>\n",
              "      <td>Hirvonen, Mrs. Alexander (Helga E Lindqvist)</td>\n",
              "      <td>female</td>\n",
              "      <td>22.0</td>\n",
              "      <td>1</td>\n",
              "      <td>1</td>\n",
              "      <td>3101298</td>\n",
              "      <td>12.2875</td>\n",
              "      <td>NaN</td>\n",
              "      <td>S</td>\n",
              "    </tr>\n",
              "    <tr>\n",
              "      <th>5</th>\n",
              "      <td>897</td>\n",
              "      <td>3</td>\n",
              "      <td>Svensson, Mr. Johan Cervin</td>\n",
              "      <td>male</td>\n",
              "      <td>14.0</td>\n",
              "      <td>0</td>\n",
              "      <td>0</td>\n",
              "      <td>7538</td>\n",
              "      <td>9.2250</td>\n",
              "      <td>NaN</td>\n",
              "      <td>S</td>\n",
              "    </tr>\n",
              "    <tr>\n",
              "      <th>6</th>\n",
              "      <td>898</td>\n",
              "      <td>3</td>\n",
              "      <td>Connolly, Miss. Kate</td>\n",
              "      <td>female</td>\n",
              "      <td>30.0</td>\n",
              "      <td>0</td>\n",
              "      <td>0</td>\n",
              "      <td>330972</td>\n",
              "      <td>7.6292</td>\n",
              "      <td>NaN</td>\n",
              "      <td>Q</td>\n",
              "    </tr>\n",
              "    <tr>\n",
              "      <th>7</th>\n",
              "      <td>899</td>\n",
              "      <td>2</td>\n",
              "      <td>Caldwell, Mr. Albert Francis</td>\n",
              "      <td>male</td>\n",
              "      <td>26.0</td>\n",
              "      <td>1</td>\n",
              "      <td>1</td>\n",
              "      <td>248738</td>\n",
              "      <td>29.0000</td>\n",
              "      <td>NaN</td>\n",
              "      <td>S</td>\n",
              "    </tr>\n",
              "  </tbody>\n",
              "</table>\n",
              "</div>\n",
              "      <button class=\"colab-df-convert\" onclick=\"convertToInteractive('df-09f1d0df-bf6f-4d74-9e88-719ee191abcf')\"\n",
              "              title=\"Convert this dataframe to an interactive table.\"\n",
              "              style=\"display:none;\">\n",
              "        \n",
              "  <svg xmlns=\"http://www.w3.org/2000/svg\" height=\"24px\"viewBox=\"0 0 24 24\"\n",
              "       width=\"24px\">\n",
              "    <path d=\"M0 0h24v24H0V0z\" fill=\"none\"/>\n",
              "    <path d=\"M18.56 5.44l.94 2.06.94-2.06 2.06-.94-2.06-.94-.94-2.06-.94 2.06-2.06.94zm-11 1L8.5 8.5l.94-2.06 2.06-.94-2.06-.94L8.5 2.5l-.94 2.06-2.06.94zm10 10l.94 2.06.94-2.06 2.06-.94-2.06-.94-.94-2.06-.94 2.06-2.06.94z\"/><path d=\"M17.41 7.96l-1.37-1.37c-.4-.4-.92-.59-1.43-.59-.52 0-1.04.2-1.43.59L10.3 9.45l-7.72 7.72c-.78.78-.78 2.05 0 2.83L4 21.41c.39.39.9.59 1.41.59.51 0 1.02-.2 1.41-.59l7.78-7.78 2.81-2.81c.8-.78.8-2.07 0-2.86zM5.41 20L4 18.59l7.72-7.72 1.47 1.35L5.41 20z\"/>\n",
              "  </svg>\n",
              "      </button>\n",
              "      \n",
              "  <style>\n",
              "    .colab-df-container {\n",
              "      display:flex;\n",
              "      flex-wrap:wrap;\n",
              "      gap: 12px;\n",
              "    }\n",
              "\n",
              "    .colab-df-convert {\n",
              "      background-color: #E8F0FE;\n",
              "      border: none;\n",
              "      border-radius: 50%;\n",
              "      cursor: pointer;\n",
              "      display: none;\n",
              "      fill: #1967D2;\n",
              "      height: 32px;\n",
              "      padding: 0 0 0 0;\n",
              "      width: 32px;\n",
              "    }\n",
              "\n",
              "    .colab-df-convert:hover {\n",
              "      background-color: #E2EBFA;\n",
              "      box-shadow: 0px 1px 2px rgba(60, 64, 67, 0.3), 0px 1px 3px 1px rgba(60, 64, 67, 0.15);\n",
              "      fill: #174EA6;\n",
              "    }\n",
              "\n",
              "    [theme=dark] .colab-df-convert {\n",
              "      background-color: #3B4455;\n",
              "      fill: #D2E3FC;\n",
              "    }\n",
              "\n",
              "    [theme=dark] .colab-df-convert:hover {\n",
              "      background-color: #434B5C;\n",
              "      box-shadow: 0px 1px 3px 1px rgba(0, 0, 0, 0.15);\n",
              "      filter: drop-shadow(0px 1px 2px rgba(0, 0, 0, 0.3));\n",
              "      fill: #FFFFFF;\n",
              "    }\n",
              "  </style>\n",
              "\n",
              "      <script>\n",
              "        const buttonEl =\n",
              "          document.querySelector('#df-09f1d0df-bf6f-4d74-9e88-719ee191abcf button.colab-df-convert');\n",
              "        buttonEl.style.display =\n",
              "          google.colab.kernel.accessAllowed ? 'block' : 'none';\n",
              "\n",
              "        async function convertToInteractive(key) {\n",
              "          const element = document.querySelector('#df-09f1d0df-bf6f-4d74-9e88-719ee191abcf');\n",
              "          const dataTable =\n",
              "            await google.colab.kernel.invokeFunction('convertToInteractive',\n",
              "                                                     [key], {});\n",
              "          if (!dataTable) return;\n",
              "\n",
              "          const docLinkHtml = 'Like what you see? Visit the ' +\n",
              "            '<a target=\"_blank\" href=https://colab.research.google.com/notebooks/data_table.ipynb>data table notebook</a>'\n",
              "            + ' to learn more about interactive tables.';\n",
              "          element.innerHTML = '';\n",
              "          dataTable['output_type'] = 'display_data';\n",
              "          await google.colab.output.renderOutput(dataTable, element);\n",
              "          const docLink = document.createElement('div');\n",
              "          docLink.innerHTML = docLinkHtml;\n",
              "          element.appendChild(docLink);\n",
              "        }\n",
              "      </script>\n",
              "    </div>\n",
              "  </div>\n",
              "  "
            ]
          },
          "metadata": {},
          "execution_count": 14
        }
      ]
    },
    {
      "cell_type": "markdown",
      "source": [
        "###**Checking possible variables with empty values ​​and filling them:**"
      ],
      "metadata": {
        "id": "kNh2Exe0t_-t"
      }
    },
    {
      "cell_type": "code",
      "source": [
        "train.isna().any()"
      ],
      "metadata": {
        "colab": {
          "base_uri": "https://localhost:8080/"
        },
        "id": "Dw9eIG7Nt8g1",
        "outputId": "6304de1f-be57-4521-c965-77fc7b01c0f2"
      },
      "execution_count": null,
      "outputs": [
        {
          "output_type": "execute_result",
          "data": {
            "text/plain": [
              "PassengerId    False\n",
              "Survived       False\n",
              "Pclass         False\n",
              "Name           False\n",
              "Sex            False\n",
              "Age             True\n",
              "SibSp          False\n",
              "Parch          False\n",
              "Ticket         False\n",
              "Fare           False\n",
              "Cabin           True\n",
              "Embarked        True\n",
              "dtype: bool"
            ]
          },
          "metadata": {},
          "execution_count": 15
        }
      ]
    },
    {
      "cell_type": "code",
      "source": [
        "train.isnull().sum() # seeing how many lines of each variable are empty"
      ],
      "metadata": {
        "colab": {
          "base_uri": "https://localhost:8080/"
        },
        "id": "hRWiFfaDuL4t",
        "outputId": "7a05b599-e108-4f7f-ab67-2277e59bfd58"
      },
      "execution_count": null,
      "outputs": [
        {
          "output_type": "execute_result",
          "data": {
            "text/plain": [
              "PassengerId      0\n",
              "Survived         0\n",
              "Pclass           0\n",
              "Name             0\n",
              "Sex              0\n",
              "Age            177\n",
              "SibSp            0\n",
              "Parch            0\n",
              "Ticket           0\n",
              "Fare             0\n",
              "Cabin          687\n",
              "Embarked         2\n",
              "dtype: int64"
            ]
          },
          "metadata": {},
          "execution_count": 16
        }
      ]
    },
    {
      "cell_type": "markdown",
      "source": [
        "####Age variable:"
      ],
      "metadata": {
        "id": "_AZzWD15vgPV"
      }
    },
    {
      "cell_type": "code",
      "source": [
        "print(train[\"Age\"].min())\n",
        "print(train[\"Age\"].max())"
      ],
      "metadata": {
        "colab": {
          "base_uri": "https://localhost:8080/"
        },
        "id": "pF6eIv_0uyO9",
        "outputId": "9846f1d7-c550-4b14-ebc7-3e97560c6caf"
      },
      "execution_count": null,
      "outputs": [
        {
          "output_type": "stream",
          "name": "stdout",
          "text": [
            "0.42\n",
            "80.0\n"
          ]
        }
      ]
    },
    {
      "cell_type": "code",
      "source": [
        "ax = train[\"Age\"].hist(bins = 15, density = True, stacked = True, color = \"teal\", alpha = 0.6)\n",
        "train[\"Age\"].plot(kind = \"density\", color = \"teal\")\n",
        "ax.set(xlabel = \"Age\")\n",
        "plt.xlim(-10, 85)\n",
        "plt.show()"
      ],
      "metadata": {
        "colab": {
          "base_uri": "https://localhost:8080/",
          "height": 288
        },
        "id": "Arv0n7t1uV_W",
        "outputId": "b7230e55-700e-4928-a9c2-d61c16e33e30"
      },
      "execution_count": null,
      "outputs": [
        {
          "output_type": "display_data",
          "data": {
            "text/plain": [
              "<Figure size 432x288 with 1 Axes>"
            ],
            "image/png": "[encoded data removed]"
          },
          "metadata": {
            "needs_background": "light"
          }
        }
      ]
    },
    {
      "cell_type": "markdown",
      "source": [
        "Since \"Age\" is skewed, using the mean might give us biased results by filling in ages that are older than desired. To deal with this, we'll use the median to impute the missing values."
      ],
      "metadata": {
        "id": "1mQX0HZivDl-"
      }
    },
    {
      "cell_type": "code",
      "source": [
        "train[\"Age\"].median()"
      ],
      "metadata": {
        "colab": {
          "base_uri": "https://localhost:8080/"
        },
        "id": "-yhfjUAJvKQt",
        "outputId": "cc4484ac-f021-4213-c9a7-b7dda05b6170"
      },
      "execution_count": null,
      "outputs": [
        {
          "output_type": "execute_result",
          "data": {
            "text/plain": [
              "28.0"
            ]
          },
          "metadata": {},
          "execution_count": 19
        }
      ]
    },
    {
      "cell_type": "code",
      "source": [
        "train.fillna({\"Age\" : 28}, inplace = True)"
      ],
      "metadata": {
        "id": "v_0xMe-LvVG0"
      },
      "execution_count": null,
      "outputs": []
    },
    {
      "cell_type": "markdown",
      "source": [
        "####Cabin variable:"
      ],
      "metadata": {
        "id": "yMl6IpvdvwIo"
      }
    },
    {
      "cell_type": "code",
      "source": [
        "# percent of missing \"Cabin\" \n",
        "print('Percent of missing \"Cabin\" records is %.2f%%' %((train[\"Cabin\"].isnull().sum()/train.shape[0])*100))"
      ],
      "metadata": {
        "colab": {
          "base_uri": "https://localhost:8080/"
        },
        "id": "vd8PKYhjwFE2",
        "outputId": "f63d150c-fe4f-4c55-fcdc-12ac127e180e"
      },
      "execution_count": null,
      "outputs": [
        {
          "output_type": "stream",
          "name": "stdout",
          "text": [
            "Percent of missing \"Cabin\" records is 77.10%\n"
          ]
        }
      ]
    },
    {
      "cell_type": "markdown",
      "source": [
        "77% of records are missing, which means that imputing information and using this variable for prediction is probably not wise. I'm not using this variable in the model."
      ],
      "metadata": {
        "id": "jDIrYz5nwWGF"
      }
    },
    {
      "cell_type": "code",
      "source": [
        "train.drop(\"Cabin\", axis = 1, inplace = True)"
      ],
      "metadata": {
        "id": "tUmzb-sDxx8F"
      },
      "execution_count": null,
      "outputs": []
    },
    {
      "cell_type": "markdown",
      "source": [
        "####Embarked variable:"
      ],
      "metadata": {
        "id": "HdtzdEh7wsPE"
      }
    },
    {
      "cell_type": "code",
      "source": [
        "# percent of missing \"Embarked\" \n",
        "print('Percent of missing \"Embarked\" records is %.2f%%' %((train[\"Embarked\"].isnull().sum()/train.shape[0])*100))"
      ],
      "metadata": {
        "colab": {
          "base_uri": "https://localhost:8080/"
        },
        "id": "PbMYTYs5wvZ8",
        "outputId": "9c408efe-1293-4b3f-a3aa-88012c4348e3"
      },
      "execution_count": null,
      "outputs": [
        {
          "output_type": "stream",
          "name": "stdout",
          "text": [
            "Percent of missing \"Embarked\" records is 0.22%\n"
          ]
        }
      ]
    },
    {
      "cell_type": "code",
      "source": [
        "print(\"Boarded passengers grouped by port of embarkation (C = Cherbourg, Q = Queenstown, S = Southampton):\")\n",
        "print(train[\"Embarked\"].value_counts())\n",
        "sns.countplot(x = \"Embarked\", data = train, palette = \"Set2\")\n",
        "plt.show()"
      ],
      "metadata": {
        "colab": {
          "base_uri": "https://localhost:8080/",
          "height": 372
        },
        "id": "7sdn1K4lxJI1",
        "outputId": "f1a8d9e0-4204-4070-d584-ae869e833322"
      },
      "execution_count": null,
      "outputs": [
        {
          "output_type": "stream",
          "name": "stdout",
          "text": [
            "Boarded passengers grouped by port of embarkation (C = Cherbourg, Q = Queenstown, S = Southampton):\n",
            "S    644\n",
            "C    168\n",
            "Q     77\n",
            "Name: Embarked, dtype: int64\n"
          ]
        },
        {
          "output_type": "display_data",
          "data": {
            "text/plain": [
              "<Figure size 432x288 with 1 Axes>"
            ],
            "image/png": "[encoded data removed]"
          },
          "metadata": {
            "needs_background": "light"
          }
        }
      ]
    },
    {
      "cell_type": "markdown",
      "source": [
        "It is reasonable to fill empty values ​​using the mode (most passengers boarded in Southhampton = S)."
      ],
      "metadata": {
        "id": "jfJpPKfbxey1"
      }
    },
    {
      "cell_type": "code",
      "source": [
        "train.fillna({\"Embarked\" : \"S\"}, inplace = True)"
      ],
      "metadata": {
        "id": "HQ-cnD4Cxyrl"
      },
      "execution_count": null,
      "outputs": []
    },
    {
      "cell_type": "markdown",
      "source": [
        "Checking missing values in adjusted train data:"
      ],
      "metadata": {
        "id": "ks3GLLugydxW"
      }
    },
    {
      "cell_type": "code",
      "source": [
        "train.isnull().sum()"
      ],
      "metadata": {
        "colab": {
          "base_uri": "https://localhost:8080/"
        },
        "id": "iw3dLLMZydZN",
        "outputId": "10c76eb0-1bcd-45f8-af44-3ea8add6e67f"
      },
      "execution_count": null,
      "outputs": [
        {
          "output_type": "execute_result",
          "data": {
            "text/plain": [
              "PassengerId    0\n",
              "Survived       0\n",
              "Pclass         0\n",
              "Name           0\n",
              "Sex            0\n",
              "Age            0\n",
              "SibSp          0\n",
              "Parch          0\n",
              "Ticket         0\n",
              "Fare           0\n",
              "Embarked       0\n",
              "dtype: int64"
            ]
          },
          "metadata": {},
          "execution_count": 26
        }
      ]
    },
    {
      "cell_type": "code",
      "source": [
        "test.isna().any()"
      ],
      "metadata": {
        "colab": {
          "base_uri": "https://localhost:8080/"
        },
        "id": "-xciwjBi11aE",
        "outputId": "2bb874f8-6b8b-4a38-aad4-cddf78b11ff4"
      },
      "execution_count": null,
      "outputs": [
        {
          "output_type": "execute_result",
          "data": {
            "text/plain": [
              "PassengerId    False\n",
              "Pclass         False\n",
              "Name           False\n",
              "Sex            False\n",
              "Age             True\n",
              "SibSp          False\n",
              "Parch          False\n",
              "Ticket         False\n",
              "Fare            True\n",
              "Cabin           True\n",
              "Embarked       False\n",
              "dtype: bool"
            ]
          },
          "metadata": {},
          "execution_count": 27
        }
      ]
    },
    {
      "cell_type": "code",
      "source": [
        "test.isnull().sum()"
      ],
      "metadata": {
        "colab": {
          "base_uri": "https://localhost:8080/"
        },
        "id": "09A2pJR519_9",
        "outputId": "26e0be47-5349-4288-c9a0-b10b85e82c0c"
      },
      "execution_count": null,
      "outputs": [
        {
          "output_type": "execute_result",
          "data": {
            "text/plain": [
              "PassengerId      0\n",
              "Pclass           0\n",
              "Name             0\n",
              "Sex              0\n",
              "Age             86\n",
              "SibSp            0\n",
              "Parch            0\n",
              "Ticket           0\n",
              "Fare             1\n",
              "Cabin          327\n",
              "Embarked         0\n",
              "dtype: int64"
            ]
          },
          "metadata": {},
          "execution_count": 28
        }
      ]
    },
    {
      "cell_type": "markdown",
      "source": [
        "###**Cleaning repeated variables**\n",
        "\n",
        "According to the Kaggle data dictionary, both \"SibSp\" and \"Parch\" relate to traveling with family. For simplicity's sake (and to account for possible multicollinearity), I'll combine the effect of these variables into one categorical predictor: whether or not that individual was traveling alone."
      ],
      "metadata": {
        "id": "aGPWeYPHyr50"
      }
    },
    {
      "cell_type": "code",
      "source": [
        "train[\"TravelAlone\"] = np.where((train[\"SibSp\"] + train[\"Parch\"]) > 0, 0, 1)\n",
        "train.drop(\"SibSp\", axis = 1, inplace = True)\n",
        "train.drop(\"Parch\", axis = 1, inplace = True)"
      ],
      "metadata": {
        "id": "gYGsZr9tzJ2W"
      },
      "execution_count": null,
      "outputs": []
    },
    {
      "cell_type": "code",
      "source": [
        "train[\"TravelAlone\"]"
      ],
      "metadata": {
        "colab": {
          "base_uri": "https://localhost:8080/"
        },
        "id": "GcoMBFS21pi_",
        "outputId": "7f58cfe1-9db6-429b-b10e-03baf5835c51"
      },
      "execution_count": null,
      "outputs": [
        {
          "output_type": "execute_result",
          "data": {
            "text/plain": [
              "0      0\n",
              "1      0\n",
              "2      1\n",
              "3      0\n",
              "4      1\n",
              "      ..\n",
              "886    1\n",
              "887    1\n",
              "888    0\n",
              "889    1\n",
              "890    1\n",
              "Name: TravelAlone, Length: 891, dtype: int64"
            ]
          },
          "metadata": {},
          "execution_count": 30
        }
      ]
    },
    {
      "cell_type": "markdown",
      "source": [
        "Logistic regression model doesn't accept non-numerical values. The variables \"Pclass\", \"Embarked\", \"Sex\" will be converted into numeric values. Every variable in them will become a column, and their absence will define as 0, and 1 whether they’re true for that passenger or not.\n",
        "\n",
        "I will drop \"Sex_female\" variable because it represents the same values as \"Sex_male\". I will also drop some unnecessary variables for the model such as \"PassengerId\", \"Name\" and \"Ticket\"."
      ],
      "metadata": {
        "id": "JRcc3nZlz5Hf"
      }
    },
    {
      "cell_type": "code",
      "source": [
        "training = pd.get_dummies(train, columns = [\"Pclass\", \"Embarked\", \"Sex\"])\n",
        "training.drop(\"Sex_female\", axis = 1, inplace = True)\n",
        "training.drop(\"PassengerId\", axis = 1, inplace = True)\n",
        "training.drop(\"Name\", axis = 1, inplace = True)\n",
        "training.drop(\"Ticket\", axis = 1, inplace = True)"
      ],
      "metadata": {
        "id": "y0qhMOOCzvln"
      },
      "execution_count": null,
      "outputs": []
    },
    {
      "cell_type": "code",
      "source": [
        "train = training"
      ],
      "metadata": {
        "id": "QEq0kCS71v7N"
      },
      "execution_count": null,
      "outputs": []
    },
    {
      "cell_type": "code",
      "source": [
        "train.head(8)"
      ],
      "metadata": {
        "colab": {
          "base_uri": "https://localhost:8080/",
          "height": 300
        },
        "id": "rUz2vnW-5Tow",
        "outputId": "83e63913-e5d4-4428-a830-834037f87b4e"
      },
      "execution_count": null,
      "outputs": [
        {
          "output_type": "execute_result",
          "data": {
            "text/plain": [
              "   Survived   Age     Fare  TravelAlone  Pclass_1  Pclass_2  Pclass_3  \\\n",
              "0         0  22.0   7.2500            0         0         0         1   \n",
              "1         1  38.0  71.2833            0         1         0         0   \n",
              "2         1  26.0   7.9250            1         0         0         1   \n",
              "3         1  35.0  53.1000            0         1         0         0   \n",
              "4         0  35.0   8.0500            1         0         0         1   \n",
              "5         0  28.0   8.4583            1         0         0         1   \n",
              "6         0  54.0  51.8625            1         1         0         0   \n",
              "7         0   2.0  21.0750            0         0         0         1   \n",
              "\n",
              "   Embarked_C  Embarked_Q  Embarked_S  Sex_male  \n",
              "0           0           0           1         1  \n",
              "1           1           0           0         0  \n",
              "2           0           0           1         0  \n",
              "3           0           0           1         0  \n",
              "4           0           0           1         1  \n",
              "5           0           1           0         1  \n",
              "6           0           0           1         1  \n",
              "7           0           0           1         1  "
            ],
            "text/html": [
              "\n",
              "  <div id=\"df-b825c021-0796-4785-bdf7-c1866f4eb984\">\n",
              "    <div class=\"colab-df-container\">\n",
              "      <div>\n",
              "<style scoped>\n",
              "    .dataframe tbody tr th:only-of-type {\n",
              "        vertical-align: middle;\n",
              "    }\n",
              "\n",
              "    .dataframe tbody tr th {\n",
              "        vertical-align: top;\n",
              "    }\n",
              "\n",
              "    .dataframe thead th {\n",
              "        text-align: right;\n",
              "    }\n",
              "</style>\n",
              "<table border=\"1\" class=\"dataframe\">\n",
              "  <thead>\n",
              "    <tr style=\"text-align: right;\">\n",
              "      <th></th>\n",
              "      <th>Survived</th>\n",
              "      <th>Age</th>\n",
              "      <th>Fare</th>\n",
              "      <th>TravelAlone</th>\n",
              "      <th>Pclass_1</th>\n",
              "      <th>Pclass_2</th>\n",
              "      <th>Pclass_3</th>\n",
              "      <th>Embarked_C</th>\n",
              "      <th>Embarked_Q</th>\n",
              "      <th>Embarked_S</th>\n",
              "      <th>Sex_male</th>\n",
              "    </tr>\n",
              "  </thead>\n",
              "  <tbody>\n",
              "    <tr>\n",
              "      <th>0</th>\n",
              "      <td>0</td>\n",
              "      <td>22.0</td>\n",
              "      <td>7.2500</td>\n",
              "      <td>0</td>\n",
              "      <td>0</td>\n",
              "      <td>0</td>\n",
              "      <td>1</td>\n",
              "      <td>0</td>\n",
              "      <td>0</td>\n",
              "      <td>1</td>\n",
              "      <td>1</td>\n",
              "    </tr>\n",
              "    <tr>\n",
              "      <th>1</th>\n",
              "      <td>1</td>\n",
              "      <td>38.0</td>\n",
              "      <td>71.2833</td>\n",
              "      <td>0</td>\n",
              "      <td>1</td>\n",
              "      <td>0</td>\n",
              "      <td>0</td>\n",
              "      <td>1</td>\n",
              "      <td>0</td>\n",
              "      <td>0</td>\n",
              "      <td>0</td>\n",
              "    </tr>\n",
              "    <tr>\n",
              "      <th>2</th>\n",
              "      <td>1</td>\n",
              "      <td>26.0</td>\n",
              "      <td>7.9250</td>\n",
              "      <td>1</td>\n",
              "      <td>0</td>\n",
              "      <td>0</td>\n",
              "      <td>1</td>\n",
              "      <td>0</td>\n",
              "      <td>0</td>\n",
              "      <td>1</td>\n",
              "      <td>0</td>\n",
              "    </tr>\n",
              "    <tr>\n",
              "      <th>3</th>\n",
              "      <td>1</td>\n",
              "      <td>35.0</td>\n",
              "      <td>53.1000</td>\n",
              "      <td>0</td>\n",
              "      <td>1</td>\n",
              "      <td>0</td>\n",
              "      <td>0</td>\n",
              "      <td>0</td>\n",
              "      <td>0</td>\n",
              "      <td>1</td>\n",
              "      <td>0</td>\n",
              "    </tr>\n",
              "    <tr>\n",
              "      <th>4</th>\n",
              "      <td>0</td>\n",
              "      <td>35.0</td>\n",
              "      <td>8.0500</td>\n",
              "      <td>1</td>\n",
              "      <td>0</td>\n",
              "      <td>0</td>\n",
              "      <td>1</td>\n",
              "      <td>0</td>\n",
              "      <td>0</td>\n",
              "      <td>1</td>\n",
              "      <td>1</td>\n",
              "    </tr>\n",
              "    <tr>\n",
              "      <th>5</th>\n",
              "      <td>0</td>\n",
              "      <td>28.0</td>\n",
              "      <td>8.4583</td>\n",
              "      <td>1</td>\n",
              "      <td>0</td>\n",
              "      <td>0</td>\n",
              "      <td>1</td>\n",
              "      <td>0</td>\n",
              "      <td>1</td>\n",
              "      <td>0</td>\n",
              "      <td>1</td>\n",
              "    </tr>\n",
              "    <tr>\n",
              "      <th>6</th>\n",
              "      <td>0</td>\n",
              "      <td>54.0</td>\n",
              "      <td>51.8625</td>\n",
              "      <td>1</td>\n",
              "      <td>1</td>\n",
              "      <td>0</td>\n",
              "      <td>0</td>\n",
              "      <td>0</td>\n",
              "      <td>0</td>\n",
              "      <td>1</td>\n",
              "      <td>1</td>\n",
              "    </tr>\n",
              "    <tr>\n",
              "      <th>7</th>\n",
              "      <td>0</td>\n",
              "      <td>2.0</td>\n",
              "      <td>21.0750</td>\n",
              "      <td>0</td>\n",
              "      <td>0</td>\n",
              "      <td>0</td>\n",
              "      <td>1</td>\n",
              "      <td>0</td>\n",
              "      <td>0</td>\n",
              "      <td>1</td>\n",
              "      <td>1</td>\n",
              "    </tr>\n",
              "  </tbody>\n",
              "</table>\n",
              "</div>\n",
              "      <button class=\"colab-df-convert\" onclick=\"convertToInteractive('df-b825c021-0796-4785-bdf7-c1866f4eb984')\"\n",
              "              title=\"Convert this dataframe to an interactive table.\"\n",
              "              style=\"display:none;\">\n",
              "        \n",
              "  <svg xmlns=\"http://www.w3.org/2000/svg\" height=\"24px\"viewBox=\"0 0 24 24\"\n",
              "       width=\"24px\">\n",
              "    <path d=\"M0 0h24v24H0V0z\" fill=\"none\"/>\n",
              "    <path d=\"M18.56 5.44l.94 2.06.94-2.06 2.06-.94-2.06-.94-.94-2.06-.94 2.06-2.06.94zm-11 1L8.5 8.5l.94-2.06 2.06-.94-2.06-.94L8.5 2.5l-.94 2.06-2.06.94zm10 10l.94 2.06.94-2.06 2.06-.94-2.06-.94-.94-2.06-.94 2.06-2.06.94z\"/><path d=\"M17.41 7.96l-1.37-1.37c-.4-.4-.92-.59-1.43-.59-.52 0-1.04.2-1.43.59L10.3 9.45l-7.72 7.72c-.78.78-.78 2.05 0 2.83L4 21.41c.39.39.9.59 1.41.59.51 0 1.02-.2 1.41-.59l7.78-7.78 2.81-2.81c.8-.78.8-2.07 0-2.86zM5.41 20L4 18.59l7.72-7.72 1.47 1.35L5.41 20z\"/>\n",
              "  </svg>\n",
              "      </button>\n",
              "      \n",
              "  <style>\n",
              "    .colab-df-container {\n",
              "      display:flex;\n",
              "      flex-wrap:wrap;\n",
              "      gap: 12px;\n",
              "    }\n",
              "\n",
              "    .colab-df-convert {\n",
              "      background-color: #E8F0FE;\n",
              "      border: none;\n",
              "      border-radius: 50%;\n",
              "      cursor: pointer;\n",
              "      display: none;\n",
              "      fill: #1967D2;\n",
              "      height: 32px;\n",
              "      padding: 0 0 0 0;\n",
              "      width: 32px;\n",
              "    }\n",
              "\n",
              "    .colab-df-convert:hover {\n",
              "      background-color: #E2EBFA;\n",
              "      box-shadow: 0px 1px 2px rgba(60, 64, 67, 0.3), 0px 1px 3px 1px rgba(60, 64, 67, 0.15);\n",
              "      fill: #174EA6;\n",
              "    }\n",
              "\n",
              "    [theme=dark] .colab-df-convert {\n",
              "      background-color: #3B4455;\n",
              "      fill: #D2E3FC;\n",
              "    }\n",
              "\n",
              "    [theme=dark] .colab-df-convert:hover {\n",
              "      background-color: #434B5C;\n",
              "      box-shadow: 0px 1px 3px 1px rgba(0, 0, 0, 0.15);\n",
              "      filter: drop-shadow(0px 1px 2px rgba(0, 0, 0, 0.3));\n",
              "      fill: #FFFFFF;\n",
              "    }\n",
              "  </style>\n",
              "\n",
              "      <script>\n",
              "        const buttonEl =\n",
              "          document.querySelector('#df-b825c021-0796-4785-bdf7-c1866f4eb984 button.colab-df-convert');\n",
              "        buttonEl.style.display =\n",
              "          google.colab.kernel.accessAllowed ? 'block' : 'none';\n",
              "\n",
              "        async function convertToInteractive(key) {\n",
              "          const element = document.querySelector('#df-b825c021-0796-4785-bdf7-c1866f4eb984');\n",
              "          const dataTable =\n",
              "            await google.colab.kernel.invokeFunction('convertToInteractive',\n",
              "                                                     [key], {});\n",
              "          if (!dataTable) return;\n",
              "\n",
              "          const docLinkHtml = 'Like what you see? Visit the ' +\n",
              "            '<a target=\"_blank\" href=https://colab.research.google.com/notebooks/data_table.ipynb>data table notebook</a>'\n",
              "            + ' to learn more about interactive tables.';\n",
              "          element.innerHTML = '';\n",
              "          dataTable['output_type'] = 'display_data';\n",
              "          await google.colab.output.renderOutput(dataTable, element);\n",
              "          const docLink = document.createElement('div');\n",
              "          docLink.innerHTML = docLinkHtml;\n",
              "          element.appendChild(docLink);\n",
              "        }\n",
              "      </script>\n",
              "    </div>\n",
              "  </div>\n",
              "  "
            ]
          },
          "metadata": {},
          "execution_count": 33
        }
      ]
    },
    {
      "cell_type": "markdown",
      "source": [
        "**Applying the same changes in the test data as I did for training data:**\n",
        "\n",
        "I will apply the same input for \"Age\" in the test data (if missing, Age = 28).\n",
        "\n",
        "\n",
        "I'll also delet \"Cabin\" variable from the test data, as I've decided not to include it in my analysis.\n",
        "\n",
        "\n",
        "There were no missing values in the \"Embarked\" port variable.\n",
        "\n",
        "\n",
        "I'll delet the 1 missing value row for \"Fare\" variable.\n",
        "\n",
        "\n",
        "I'll add the dummy variables.\n",
        "\n",
        "I'll drop repeated and unnecessary variables for the model."
      ],
      "metadata": {
        "id": "j1vzaFJS2rd9"
      }
    },
    {
      "cell_type": "code",
      "source": [
        "test[\"Age\"].fillna({\"Age\" : 28}, inplace = True)\n",
        "test.dropna(subset = [\"Fare\"], inplace = True)\n",
        "test.drop(\"Cabin\", axis = 1, inplace = True)\n",
        "\n",
        "test[\"TravelAlone\"] = np.where((test[\"SibSp\"] + test[\"Parch\"]) > 0, 0, 1)\n",
        "\n",
        "test.drop(\"SibSp\", axis = 1, inplace = True)\n",
        "test.drop(\"Parch\", axis = 1, inplace = True)\n",
        "\n",
        "testing = pd.get_dummies(test, columns = [\"Pclass\", \"Embarked\", \"Sex\"])\n",
        "testing.drop(\"Sex_female\", axis = 1, inplace = True)\n",
        "testing.drop(\"PassengerId\", axis = 1, inplace = True)\n",
        "testing.drop(\"Name\", axis = 1, inplace = True)\n",
        "testing.drop(\"Ticket\", axis = 1, inplace = True)"
      ],
      "metadata": {
        "id": "bjUiDLL73aEE"
      },
      "execution_count": null,
      "outputs": []
    },
    {
      "cell_type": "code",
      "source": [
        "test = testing"
      ],
      "metadata": {
        "id": "TJU0UcEU5Ygj"
      },
      "execution_count": null,
      "outputs": []
    },
    {
      "cell_type": "code",
      "source": [
        "test.head(8)"
      ],
      "metadata": {
        "colab": {
          "base_uri": "https://localhost:8080/",
          "height": 300
        },
        "id": "Db2qDEK95Y0b",
        "outputId": "6ea357fc-c85a-4785-91df-bc13334944fc"
      },
      "execution_count": null,
      "outputs": [
        {
          "output_type": "execute_result",
          "data": {
            "text/plain": [
              "    Age     Fare  TravelAlone  Pclass_1  Pclass_2  Pclass_3  Embarked_C  \\\n",
              "0  34.5   7.8292            1         0         0         1           0   \n",
              "1  47.0   7.0000            0         0         0         1           0   \n",
              "2  62.0   9.6875            1         0         1         0           0   \n",
              "3  27.0   8.6625            1         0         0         1           0   \n",
              "4  22.0  12.2875            0         0         0         1           0   \n",
              "5  14.0   9.2250            1         0         0         1           0   \n",
              "6  30.0   7.6292            1         0         0         1           0   \n",
              "7  26.0  29.0000            0         0         1         0           0   \n",
              "\n",
              "   Embarked_Q  Embarked_S  Sex_male  \n",
              "0           1           0         1  \n",
              "1           0           1         0  \n",
              "2           1           0         1  \n",
              "3           0           1         1  \n",
              "4           0           1         0  \n",
              "5           0           1         1  \n",
              "6           1           0         0  \n",
              "7           0           1         1  "
            ],
            "text/html": [
              "\n",
              "  <div id=\"df-7accda24-b0ed-4b57-a6c9-ab82f2732460\">\n",
              "    <div class=\"colab-df-container\">\n",
              "      <div>\n",
              "<style scoped>\n",
              "    .dataframe tbody tr th:only-of-type {\n",
              "        vertical-align: middle;\n",
              "    }\n",
              "\n",
              "    .dataframe tbody tr th {\n",
              "        vertical-align: top;\n",
              "    }\n",
              "\n",
              "    .dataframe thead th {\n",
              "        text-align: right;\n",
              "    }\n",
              "</style>\n",
              "<table border=\"1\" class=\"dataframe\">\n",
              "  <thead>\n",
              "    <tr style=\"text-align: right;\">\n",
              "      <th></th>\n",
              "      <th>Age</th>\n",
              "      <th>Fare</th>\n",
              "      <th>TravelAlone</th>\n",
              "      <th>Pclass_1</th>\n",
              "      <th>Pclass_2</th>\n",
              "      <th>Pclass_3</th>\n",
              "      <th>Embarked_C</th>\n",
              "      <th>Embarked_Q</th>\n",
              "      <th>Embarked_S</th>\n",
              "      <th>Sex_male</th>\n",
              "    </tr>\n",
              "  </thead>\n",
              "  <tbody>\n",
              "    <tr>\n",
              "      <th>0</th>\n",
              "      <td>34.5</td>\n",
              "      <td>7.8292</td>\n",
              "      <td>1</td>\n",
              "      <td>0</td>\n",
              "      <td>0</td>\n",
              "      <td>1</td>\n",
              "      <td>0</td>\n",
              "      <td>1</td>\n",
              "      <td>0</td>\n",
              "      <td>1</td>\n",
              "    </tr>\n",
              "    <tr>\n",
              "      <th>1</th>\n",
              "      <td>47.0</td>\n",
              "      <td>7.0000</td>\n",
              "      <td>0</td>\n",
              "      <td>0</td>\n",
              "      <td>0</td>\n",
              "      <td>1</td>\n",
              "      <td>0</td>\n",
              "      <td>0</td>\n",
              "      <td>1</td>\n",
              "      <td>0</td>\n",
              "    </tr>\n",
              "    <tr>\n",
              "      <th>2</th>\n",
              "      <td>62.0</td>\n",
              "      <td>9.6875</td>\n",
              "      <td>1</td>\n",
              "      <td>0</td>\n",
              "      <td>1</td>\n",
              "      <td>0</td>\n",
              "      <td>0</td>\n",
              "      <td>1</td>\n",
              "      <td>0</td>\n",
              "      <td>1</td>\n",
              "    </tr>\n",
              "    <tr>\n",
              "      <th>3</th>\n",
              "      <td>27.0</td>\n",
              "      <td>8.6625</td>\n",
              "      <td>1</td>\n",
              "      <td>0</td>\n",
              "      <td>0</td>\n",
              "      <td>1</td>\n",
              "      <td>0</td>\n",
              "      <td>0</td>\n",
              "      <td>1</td>\n",
              "      <td>1</td>\n",
              "    </tr>\n",
              "    <tr>\n",
              "      <th>4</th>\n",
              "      <td>22.0</td>\n",
              "      <td>12.2875</td>\n",
              "      <td>0</td>\n",
              "      <td>0</td>\n",
              "      <td>0</td>\n",
              "      <td>1</td>\n",
              "      <td>0</td>\n",
              "      <td>0</td>\n",
              "      <td>1</td>\n",
              "      <td>0</td>\n",
              "    </tr>\n",
              "    <tr>\n",
              "      <th>5</th>\n",
              "      <td>14.0</td>\n",
              "      <td>9.2250</td>\n",
              "      <td>1</td>\n",
              "      <td>0</td>\n",
              "      <td>0</td>\n",
              "      <td>1</td>\n",
              "      <td>0</td>\n",
              "      <td>0</td>\n",
              "      <td>1</td>\n",
              "      <td>1</td>\n",
              "    </tr>\n",
              "    <tr>\n",
              "      <th>6</th>\n",
              "      <td>30.0</td>\n",
              "      <td>7.6292</td>\n",
              "      <td>1</td>\n",
              "      <td>0</td>\n",
              "      <td>0</td>\n",
              "      <td>1</td>\n",
              "      <td>0</td>\n",
              "      <td>1</td>\n",
              "      <td>0</td>\n",
              "      <td>0</td>\n",
              "    </tr>\n",
              "    <tr>\n",
              "      <th>7</th>\n",
              "      <td>26.0</td>\n",
              "      <td>29.0000</td>\n",
              "      <td>0</td>\n",
              "      <td>0</td>\n",
              "      <td>1</td>\n",
              "      <td>0</td>\n",
              "      <td>0</td>\n",
              "      <td>0</td>\n",
              "      <td>1</td>\n",
              "      <td>1</td>\n",
              "    </tr>\n",
              "  </tbody>\n",
              "</table>\n",
              "</div>\n",
              "      <button class=\"colab-df-convert\" onclick=\"convertToInteractive('df-7accda24-b0ed-4b57-a6c9-ab82f2732460')\"\n",
              "              title=\"Convert this dataframe to an interactive table.\"\n",
              "              style=\"display:none;\">\n",
              "        \n",
              "  <svg xmlns=\"http://www.w3.org/2000/svg\" height=\"24px\"viewBox=\"0 0 24 24\"\n",
              "       width=\"24px\">\n",
              "    <path d=\"M0 0h24v24H0V0z\" fill=\"none\"/>\n",
              "    <path d=\"M18.56 5.44l.94 2.06.94-2.06 2.06-.94-2.06-.94-.94-2.06-.94 2.06-2.06.94zm-11 1L8.5 8.5l.94-2.06 2.06-.94-2.06-.94L8.5 2.5l-.94 2.06-2.06.94zm10 10l.94 2.06.94-2.06 2.06-.94-2.06-.94-.94-2.06-.94 2.06-2.06.94z\"/><path d=\"M17.41 7.96l-1.37-1.37c-.4-.4-.92-.59-1.43-.59-.52 0-1.04.2-1.43.59L10.3 9.45l-7.72 7.72c-.78.78-.78 2.05 0 2.83L4 21.41c.39.39.9.59 1.41.59.51 0 1.02-.2 1.41-.59l7.78-7.78 2.81-2.81c.8-.78.8-2.07 0-2.86zM5.41 20L4 18.59l7.72-7.72 1.47 1.35L5.41 20z\"/>\n",
              "  </svg>\n",
              "      </button>\n",
              "      \n",
              "  <style>\n",
              "    .colab-df-container {\n",
              "      display:flex;\n",
              "      flex-wrap:wrap;\n",
              "      gap: 12px;\n",
              "    }\n",
              "\n",
              "    .colab-df-convert {\n",
              "      background-color: #E8F0FE;\n",
              "      border: none;\n",
              "      border-radius: 50%;\n",
              "      cursor: pointer;\n",
              "      display: none;\n",
              "      fill: #1967D2;\n",
              "      height: 32px;\n",
              "      padding: 0 0 0 0;\n",
              "      width: 32px;\n",
              "    }\n",
              "\n",
              "    .colab-df-convert:hover {\n",
              "      background-color: #E2EBFA;\n",
              "      box-shadow: 0px 1px 2px rgba(60, 64, 67, 0.3), 0px 1px 3px 1px rgba(60, 64, 67, 0.15);\n",
              "      fill: #174EA6;\n",
              "    }\n",
              "\n",
              "    [theme=dark] .colab-df-convert {\n",
              "      background-color: #3B4455;\n",
              "      fill: #D2E3FC;\n",
              "    }\n",
              "\n",
              "    [theme=dark] .colab-df-convert:hover {\n",
              "      background-color: #434B5C;\n",
              "      box-shadow: 0px 1px 3px 1px rgba(0, 0, 0, 0.15);\n",
              "      filter: drop-shadow(0px 1px 2px rgba(0, 0, 0, 0.3));\n",
              "      fill: #FFFFFF;\n",
              "    }\n",
              "  </style>\n",
              "\n",
              "      <script>\n",
              "        const buttonEl =\n",
              "          document.querySelector('#df-7accda24-b0ed-4b57-a6c9-ab82f2732460 button.colab-df-convert');\n",
              "        buttonEl.style.display =\n",
              "          google.colab.kernel.accessAllowed ? 'block' : 'none';\n",
              "\n",
              "        async function convertToInteractive(key) {\n",
              "          const element = document.querySelector('#df-7accda24-b0ed-4b57-a6c9-ab82f2732460');\n",
              "          const dataTable =\n",
              "            await google.colab.kernel.invokeFunction('convertToInteractive',\n",
              "                                                     [key], {});\n",
              "          if (!dataTable) return;\n",
              "\n",
              "          const docLinkHtml = 'Like what you see? Visit the ' +\n",
              "            '<a target=\"_blank\" href=https://colab.research.google.com/notebooks/data_table.ipynb>data table notebook</a>'\n",
              "            + ' to learn more about interactive tables.';\n",
              "          element.innerHTML = '';\n",
              "          dataTable['output_type'] = 'display_data';\n",
              "          await google.colab.output.renderOutput(dataTable, element);\n",
              "          const docLink = document.createElement('div');\n",
              "          docLink.innerHTML = docLinkHtml;\n",
              "          element.appendChild(docLink);\n",
              "        }\n",
              "      </script>\n",
              "    </div>\n",
              "  </div>\n",
              "  "
            ]
          },
          "metadata": {},
          "execution_count": 36
        }
      ]
    },
    {
      "cell_type": "markdown",
      "source": [
        "##**EDA**"
      ],
      "metadata": {
        "id": "HB3_OjE75qbL"
      }
    },
    {
      "cell_type": "markdown",
      "source": [
        "###Age"
      ],
      "metadata": {
        "id": "cDF7IRx88z57"
      }
    },
    {
      "cell_type": "code",
      "source": [
        "plt.figure(figsize = (15, 8))\n",
        "ax = sns.kdeplot(train[\"Age\"][train.Survived == 1], color = \"mediumblue\", shade = True)\n",
        "sns.kdeplot(train[\"Age\"][train.Survived == 0], color = \"orangered\", shade = True)\n",
        "plt.legend([\"Survived\", \"Died\"])\n",
        "plt.title(\"Density Plot of Age for Surviving Population and Deceased Population\")\n",
        "ax.set(xlabel = \"Age\")\n",
        "ax.set(ylabel = \"Density\")\n",
        "plt.xlim(-5, 115)\n",
        "plt.show()"
      ],
      "metadata": {
        "colab": {
          "base_uri": "https://localhost:8080/",
          "height": 518
        },
        "id": "gyTynf_k8Tlr",
        "outputId": "8fa438b6-2f01-40fb-fca0-a17fce4546c1"
      },
      "execution_count": null,
      "outputs": [
        {
          "output_type": "display_data",
          "data": {
            "text/plain": [
              "<Figure size 1080x576 with 1 Axes>"
            ],
            "image/png": "[encoded data removed]"
          },
          "metadata": {
            "needs_background": "light"
          }
        }
      ]
    },
    {
      "cell_type": "markdown",
      "source": [
        "The age distribution for survivors and deceased is actually very similar. One notable difference is that, of the survivors, a larger proportion were children. The passengers evidently made an attempt to save children by giving them a place on the life rafts."
      ],
      "metadata": {
        "id": "RvdPdzNG8rJb"
      }
    },
    {
      "cell_type": "markdown",
      "source": [
        "###Fare"
      ],
      "metadata": {
        "id": "S17feJS_86cb"
      }
    },
    {
      "cell_type": "code",
      "source": [
        "print(train[\"Fare\"].min())\n",
        "print(train[\"Fare\"].max())"
      ],
      "metadata": {
        "colab": {
          "base_uri": "https://localhost:8080/"
        },
        "id": "BeTm2k0x9J4U",
        "outputId": "7c7f30bd-6284-4a31-b019-0f4a3904c9f8"
      },
      "execution_count": null,
      "outputs": [
        {
          "output_type": "stream",
          "name": "stdout",
          "text": [
            "0.0\n",
            "512.3292\n"
          ]
        }
      ]
    },
    {
      "cell_type": "code",
      "source": [
        "plt.figure(figsize = (15, 8))\n",
        "ax = sns.kdeplot(train[\"Fare\"][train.Survived == 1], color = \"mediumseagreen\", shade = True)\n",
        "sns.kdeplot(train[\"Fare\"][train.Survived == 0], color = \"crimson\", shade = True)\n",
        "plt.legend([\"Survived\", \"Died\"])\n",
        "plt.title(\"Density Plot of Fare for Surviving Population and Deceased Population\")\n",
        "ax.set(xlabel = \"Fare\")\n",
        "ax.set(ylabel = \"Density\")\n",
        "plt.xlim(-30, 600)\n",
        "plt.show()"
      ],
      "metadata": {
        "colab": {
          "base_uri": "https://localhost:8080/",
          "height": 518
        },
        "id": "lFY1zY8n89wM",
        "outputId": "7f3766e3-d5dd-49c8-eeb7-7f9c904a3f91"
      },
      "execution_count": null,
      "outputs": [
        {
          "output_type": "display_data",
          "data": {
            "text/plain": [
              "<Figure size 1080x576 with 1 Axes>"
            ],
            "image/png": "[encoded data removed]"
          },
          "metadata": {
            "needs_background": "light"
          }
        }
      ]
    },
    {
      "cell_type": "markdown",
      "source": [
        "As the distributions are clearly different for the fares of survivors vs. deceased, it's likely that this would be a significant predictor in our final model. Passengers who paid lower fare appear to have been less likely to survive."
      ],
      "metadata": {
        "id": "jI0vK19d9wfE"
      }
    },
    {
      "cell_type": "markdown",
      "source": [
        "###Traveling Alone"
      ],
      "metadata": {
        "id": "DxBtY6OO93GK"
      }
    },
    {
      "cell_type": "code",
      "source": [
        "sns.barplot(\"TravelAlone\", \"Survived\", data = train, color = \"blueviolet\")\n",
        "plt.show()"
      ],
      "metadata": {
        "colab": {
          "base_uri": "https://localhost:8080/",
          "height": 340
        },
        "id": "JC_tN9WH99ob",
        "outputId": "a5d74ab0-16eb-4bef-c8f2-69d30fcee1b2"
      },
      "execution_count": null,
      "outputs": [
        {
          "output_type": "stream",
          "name": "stderr",
          "text": [
            "/usr/local/lib/python3.7/dist-packages/seaborn/_decorators.py:43: FutureWarning: Pass the following variables as keyword args: x, y. From version 0.12, the only valid positional argument will be `data`, and passing other arguments without an explicit keyword will result in an error or misinterpretation.\n",
            "  FutureWarning\n"
          ]
        },
        {
          "output_type": "display_data",
          "data": {
            "text/plain": [
              "<Figure size 432x288 with 1 Axes>"
            ],
            "image/png": "[encoded data removed]"
          },
          "metadata": {
            "needs_background": "light"
          }
        }
      ]
    },
    {
      "cell_type": "markdown",
      "source": [
        "Individuals traveling without family were more likely to die in the disaster than those with family aboard."
      ],
      "metadata": {
        "id": "ZyULv8rv-juU"
      }
    },
    {
      "cell_type": "markdown",
      "source": [
        "##**Logistic Regression Model**"
      ],
      "metadata": {
        "id": "4UvVwS4RgpXX"
      }
    },
    {
      "cell_type": "code",
      "source": [
        "from sklearn.metrics import accuracy_score, f1_score, classification_report, confusion_matrix, precision_recall_curve, roc_curve, roc_auc_score\n",
        "from sklearn.model_selection import train_test_split\n",
        "from sklearn.linear_model import LogisticRegressionCV"
      ],
      "metadata": {
        "id": "Qxv-zl5xgwf1"
      },
      "execution_count": null,
      "outputs": []
    },
    {
      "cell_type": "code",
      "source": [
        "X = train.drop(columns = [\"Survived\"], axis = 1) # all the variables except Survived\n",
        "y = train[\"Survived\"] #target variable, Survived"
      ],
      "metadata": {
        "id": "C6FiD2fMhBzO"
      },
      "execution_count": null,
      "outputs": []
    },
    {
      "cell_type": "markdown",
      "source": [
        "I will divide the dataset into 30% test and 70% training. The random_state parameter must be a fixed number so that, for example, if it is necessary to change any variable in the model, by setting a value it is possible to know if the accuracy (or any other statistics parameter used) has improved because of the changes that were made and not because of a change the randomness of the division."
      ],
      "metadata": {
        "id": "uR5ugCMaihJP"
      }
    },
    {
      "cell_type": "code",
      "source": [
        "X_train, X_test, y_train, y_test = train_test_split(X, y, test_size = 0.3, random_state = 30)"
      ],
      "metadata": {
        "id": "KdhUAsFfg-Au"
      },
      "execution_count": null,
      "outputs": []
    },
    {
      "cell_type": "code",
      "source": [
        "[[ X_train.shape , y_train.shape ],[ X_test.shape , y_test.shape ]]"
      ],
      "metadata": {
        "colab": {
          "base_uri": "https://localhost:8080/"
        },
        "id": "HfZbcEH4i66l",
        "outputId": "9d835da2-22cc-4f31-dd37-aef8a169eb03"
      },
      "execution_count": null,
      "outputs": [
        {
          "output_type": "execute_result",
          "data": {
            "text/plain": [
              "[[(623, 10), (623,)], [(268, 10), (268,)]]"
            ]
          },
          "metadata": {},
          "execution_count": 46
        }
      ]
    },
    {
      "cell_type": "markdown",
      "source": [
        "**The model will be judged based on the following parameters:**\n",
        "\n",
        "Accuracy = Number of correct predictions / Total number of predictions.\n",
        "\n",
        "Accuracy = True Positives + True Negatives / True Positives + False Positives + False Negatives + True Negatives\n",
        "\n",
        "ﾠ\n",
        "\n",
        "Precision = Number of positive correct predictions (Died) / Number of predicted labels:\n",
        "\n",
        "Precisão = True Positives / (True Positives + False Positives)\n",
        "\n",
        "ﾠ\n",
        "\n",
        "Recall = Number of positive correct predictions (Died) / Number of actual labels:\n",
        "\n",
        "Recall = True Positives / (True Positives + False Negatives)\n",
        "\n",
        "ﾠ\n",
        "\n",
        "F1 Score = Harmonic Mean of Precision and Recall:\n",
        "\n",
        "F1 Score = True Positives / (True Positives + 1/2(False postives + False Negatives))\n",
        "\n",
        "For F1 Score I will use \"macro\", because the \"Survived\" data is non-balanced.\n",
        "\n",
        "ﾠ\n",
        "\n",
        "Area under the ROC curve: evaluates how well the logistic regression model ranks positive and negative results across all possible cutoffs. It ranges from 0.5 to 1, and the higher the better."
      ],
      "metadata": {
        "id": "4fUhNSBqjAv1"
      }
    },
    {
      "cell_type": "code",
      "source": [
        "def confusion_matrix_plot(Y, y):\n",
        "    plt.figure(figsize = (6, 6))\n",
        "    data = confusion_matrix(Y, y)\n",
        "    l = [\"Died\", \"Survived\"]\n",
        "    sns.heatmap(data, annot = True, annot_kws = {\"size\":18}, fmt = \"d\", linewidths = .5, cmap = \"PiYG\", square = True, xticklabels = l, yticklabels = l)\n",
        "    plt.ylabel(\"Actual\")\n",
        "    plt.xlabel(\"Predicted\")"
      ],
      "metadata": {
        "id": "c3VW7uJBjD4s"
      },
      "execution_count": null,
      "outputs": []
    },
    {
      "cell_type": "code",
      "source": [
        "def ROC_curve(Y, y_):\n",
        "    fpr, tpr, _ = roc_curve(Y, y_)\n",
        "    _ , ax = plt.subplots()\n",
        "    ax.plot(fpr, tpr)\n",
        "\n",
        "    ax.set_title(\"ROC Curve\")\n",
        "    ax.set_ylabel(\"True Positive Rate\")\n",
        "    ax.set_xlabel(\"False Positive Rate\")\n",
        "    plt.show()"
      ],
      "metadata": {
        "id": "kNkbTB-DjH9l"
      },
      "execution_count": null,
      "outputs": []
    },
    {
      "cell_type": "code",
      "source": [
        "model = LogisticRegressionCV(max_iter = 200, random_state = 30)\n",
        "model.fit(X_train, y_train)"
      ],
      "metadata": {
        "colab": {
          "base_uri": "https://localhost:8080/"
        },
        "id": "TVPh-GdljLsZ",
        "outputId": "a83c1b14-48af-4cc1-b5e4-eb2e1e618f76"
      },
      "execution_count": null,
      "outputs": [
        {
          "output_type": "execute_result",
          "data": {
            "text/plain": [
              "LogisticRegressionCV(max_iter=200, random_state=30)"
            ]
          },
          "metadata": {},
          "execution_count": 50
        }
      ]
    },
    {
      "cell_type": "code",
      "source": [
        "def lr_predict(X, Y):\n",
        "    y = model.predict(X)\n",
        "    y_ = model.predict_proba(X)[:, 1]\n",
        "\n",
        "    print(\"Accuracy:\" , accuracy_score(Y, y))\n",
        "\n",
        "    print(\"F1 Score:\" , f1_score(Y, y, average = \"macro\"))\n",
        "\n",
        "    confusion_matrix_plot(Y, y)\n",
        "\n",
        "    print(classification_report(Y, y))\n",
        "\n",
        "    ROC_curve(Y, y_)\n",
        "\n",
        "    print(\"Area under the ROC curve is\", roc_auc_score(Y, y_))\n",
        "\n",
        "    return y_"
      ],
      "metadata": {
        "id": "Zmtj-eKAjvzd"
      },
      "execution_count": null,
      "outputs": []
    },
    {
      "cell_type": "code",
      "source": [
        "lr_predict(X_train, y_train)"
      ],
      "metadata": {
        "colab": {
          "base_uri": "https://localhost:8080/",
          "height": 1000
        },
        "id": "86yLzMuEj-_-",
        "outputId": "ec79b6be-3638-48f5-bf33-4e76487c3e0b"
      },
      "execution_count": null,
      "outputs": [
        {
          "output_type": "stream",
          "name": "stdout",
          "text": [
            "Accuracy: 0.7961476725521669\n",
            "F1 Score: 0.7813642455476187\n",
            "              precision    recall  f1-score   support\n",
            "\n",
            "           0       0.83      0.85      0.84       389\n",
            "           1       0.74      0.71      0.72       234\n",
            "\n",
            "    accuracy                           0.80       623\n",
            "   macro avg       0.78      0.78      0.78       623\n",
            "weighted avg       0.80      0.80      0.80       623\n",
            "\n"
          ]
        },
        {
          "output_type": "display_data",
          "data": {
            "text/plain": [
              "<Figure size 432x432 with 2 Axes>"
            ],
            "image/png": "[encoded data removed]"
          },
          "metadata": {
            "needs_background": "light"
          }
        },
        {
          "output_type": "display_data",
          "data": {
            "text/plain": [
              "<Figure size 432x288 with 1 Axes>"
            ],
            "image/png": "[encoded data removed]"
          },
          "metadata": {
            "needs_background": "light"
          }
        },
        {
          "output_type": "stream",
          "name": "stdout",
          "text": [
            "Area under the ROC curve is 0.8564146507591237\n"
          ]
        },
        {
          "output_type": "execute_result",
          "data": {
            "text/plain": [
              "array([0.79096781, 0.10341038, 0.09533036, 0.25148526, 0.73017802,\n",
              "       0.28025852, 0.08368819, 0.17177284, 0.5472019 , 0.10122379,\n",
              "       0.06125537, 0.11066559, 0.12396023, 0.10824166, 0.09854022,\n",
              "       0.14580545, 0.61507016, 0.21008887, 0.09188572, 0.05848239,\n",
              "       0.63142101, 0.52158323, 0.53628869, 0.14483082, 0.1269774 ,\n",
              "       0.39309098, 0.59179525, 0.84869075, 0.38038097, 0.35275928,\n",
              "       0.88924302, 0.62799179, 0.68160435, 0.21069601, 0.10434814,\n",
              "       0.65352826, 0.64986687, 0.10689321, 0.6290327 , 0.50874735,\n",
              "       0.646473  , 0.09195526, 0.1008794 , 0.53931482, 0.11349159,\n",
              "       0.92111227, 0.85784872, 0.36711723, 0.91847195, 0.09195526,\n",
              "       0.10051101, 0.11081808, 0.57613769, 0.66970855, 0.09194072,\n",
              "       0.17395846, 0.10814492, 0.06597416, 0.23601945, 0.09402727,\n",
              "       0.07256224, 0.38669697, 0.2331796 , 0.09163872, 0.51661913,\n",
              "       0.08248788, 0.10510377, 0.09194072, 0.33771203, 0.39514111,\n",
              "       0.50219694, 0.5930081 , 0.70067629, 0.23135212, 0.52831531,\n",
              "       0.16952536, 0.25636941, 0.64741534, 0.93510707, 0.85691002,\n",
              "       0.61275403, 0.0708484 , 0.56723658, 0.24718846, 0.9396856 ,\n",
              "       0.09860504, 0.48962187, 0.51941145, 0.85531114, 0.65009547,\n",
              "       0.64661553, 0.1346799 , 0.94724606, 0.54161065, 0.89213011,\n",
              "       0.39844938, 0.09195526, 0.08982504, 0.88129662, 0.14483082,\n",
              "       0.5740315 , 0.38864116, 0.06425268, 0.51625756, 0.15604956,\n",
              "       0.1269774 , 0.75174492, 0.94191057, 0.90714503, 0.5269201 ,\n",
              "       0.18551909, 0.09194072, 0.11583399, 0.3960384 , 0.51606076,\n",
              "       0.10919262, 0.23307862, 0.10215273, 0.09632524, 0.59179525,\n",
              "       0.10821667, 0.51690005, 0.29084903, 0.10905534, 0.29662207,\n",
              "       0.29100062, 0.35308744, 0.41847256, 0.09995067, 0.54083459,\n",
              "       0.7518187 , 0.48036528, 0.11055189, 0.54984563, 0.09781508,\n",
              "       0.16506097, 0.33318863, 0.69325361, 0.40449299, 0.59183051,\n",
              "       0.09633631, 0.5242817 , 0.5408416 , 0.70250924, 0.28321032,\n",
              "       0.14492411, 0.79495488, 0.94911181, 0.10817489, 0.15301944,\n",
              "       0.1269774 , 0.18482302, 0.1269774 , 0.07404055, 0.16327188,\n",
              "       0.84171572, 0.15467525, 0.5509557 , 0.56624376, 0.09194072,\n",
              "       0.1269774 , 0.24434646, 0.71847353, 0.84304919, 0.14483023,\n",
              "       0.92509713, 0.08368566, 0.07808933, 0.09195526, 0.22398869,\n",
              "       0.8623825 , 0.49107061, 0.23771882, 0.59179184, 0.47065173,\n",
              "       0.44193544, 0.31035954, 0.53149633, 0.11320539, 0.38882756,\n",
              "       0.44736811, 0.08979965, 0.86166005, 0.23046379, 0.23962639,\n",
              "       0.13117424, 0.5269201 , 0.90240204, 0.55386438, 0.13146419,\n",
              "       0.87631602, 0.22231001, 0.63884734, 0.90410216, 0.09195526,\n",
              "       0.10510377, 0.13626759, 0.1269774 , 0.20394525, 0.66390637,\n",
              "       0.91017313, 0.38882756, 0.47313081, 0.09332979, 0.93919707,\n",
              "       0.11583109, 0.95098002, 0.45778804, 0.11583639, 0.91521976,\n",
              "       0.10815355, 0.66391058, 0.09635229, 0.08671308, 0.0817941 ,\n",
              "       0.17275289, 0.14503848, 0.90215447, 0.20922558, 0.09194072,\n",
              "       0.10510377, 0.08171953, 0.07969954, 0.1296691 , 0.2508718 ,\n",
              "       0.33741206, 0.10585159, 0.2303578 , 0.09192932, 0.0709771 ,\n",
              "       0.62115448, 0.25201726, 0.73709231, 0.1406665 , 0.18227878,\n",
              "       0.04351653, 0.90462918, 0.29632754, 0.20476196, 0.89501283,\n",
              "       0.28880044, 0.11398457, 0.21467729, 0.40965441, 0.60243548,\n",
              "       0.15728118, 0.28227735, 0.08995751, 0.38363982, 0.14483082,\n",
              "       0.09209213, 0.28218425, 0.89316403, 0.08799308, 0.9049618 ,\n",
              "       0.09410629, 0.92509713, 0.18624364, 0.91253936, 0.10568553,\n",
              "       0.20192546, 0.33055463, 0.65205341, 0.11008033, 0.40184523,\n",
              "       0.61440985, 0.78306901, 0.5914766 , 0.14483023, 0.58801788,\n",
              "       0.78742635, 0.11234072, 0.66164074, 0.05837363, 0.67485026,\n",
              "       0.84928821, 0.07249796, 0.14483023, 0.60617117, 0.30582911,\n",
              "       0.40282868, 0.53447499, 0.14483023, 0.59179525, 0.21497691,\n",
              "       0.06589675, 0.68767536, 0.11321957, 0.10083373, 0.78512424,\n",
              "       0.89637592, 0.17220871, 0.59176228, 0.16259543, 0.2093554 ,\n",
              "       0.09194072, 0.38975414, 0.11323327, 0.85909983, 0.38049774,\n",
              "       0.10030523, 0.64236471, 0.51518896, 0.78893264, 0.51516898,\n",
              "       0.5242817 , 0.09195526, 0.685864  , 0.27189316, 0.57741934,\n",
              "       0.24718846, 0.5269201 , 0.7228375 , 0.46422571, 0.10565617,\n",
              "       0.29309104, 0.28222013, 0.59179525, 0.54069432, 0.79395984,\n",
              "       0.92441317, 0.1279511 , 0.08995905, 0.61275403, 0.09637647,\n",
              "       0.25690819, 0.78667317, 0.52956621, 0.09411592, 0.56259049,\n",
              "       0.54295479, 0.19570158, 0.22800435, 0.87594823, 0.37269872,\n",
              "       0.89514545, 0.29589054, 0.10342303, 0.09195526, 0.38865979,\n",
              "       0.39430011, 0.51606076, 0.90324067, 0.30714917, 0.1269774 ,\n",
              "       0.75049858, 0.14483082, 0.76884097, 0.81095148, 0.13596737,\n",
              "       0.46805001, 0.92495863, 0.23610998, 0.11866601, 0.10328388,\n",
              "       0.08368206, 0.85775046, 0.15980011, 0.80044986, 0.74551768,\n",
              "       0.67861065, 0.26014435, 0.14008874, 0.85443524, 0.14483082,\n",
              "       0.8474455 , 0.80074502, 0.68668487, 0.71306853, 0.64733075,\n",
              "       0.09873356, 0.17855022, 0.85168585, 0.86022331, 0.09662822,\n",
              "       0.09977239, 0.10814765, 0.05517459, 0.23046379, 0.12142814,\n",
              "       0.09307476, 0.70440123, 0.0876671 , 0.14175839, 0.31600472,\n",
              "       0.66983712, 0.28045774, 0.11323327, 0.22398869, 0.14701565,\n",
              "       0.11325077, 0.43902666, 0.09194072, 0.13699919, 0.34610544,\n",
              "       0.36128499, 0.0878706 , 0.2138553 , 0.33069318, 0.59179525,\n",
              "       0.85112764, 0.75486244, 0.15700909, 0.12029166, 0.05305715,\n",
              "       0.47216388, 0.89338472, 0.7518187 , 0.28246697, 0.50318373,\n",
              "       0.86139714, 0.10817489, 0.1269774 , 0.09195526, 0.50233815,\n",
              "       0.55614873, 0.78684875, 0.17480482, 0.09852015, 0.15511656,\n",
              "       0.09209213, 0.12415692, 0.20084849, 0.12706613, 0.05700923,\n",
              "       0.06820179, 0.11075549, 0.33027424, 0.29271874, 0.08773941,\n",
              "       0.08172977, 0.91690023, 0.1574271 , 0.74207331, 0.40004638,\n",
              "       0.55008329, 0.81305427, 0.1009362 , 0.39002286, 0.56689454,\n",
              "       0.07787384, 0.2093554 , 0.15283744, 0.09186098, 0.09858037,\n",
              "       0.59183709, 0.15604956, 0.077955  , 0.17648693, 0.34682824,\n",
              "       0.62799068, 0.2720063 , 0.07598523, 0.12688757, 0.05298502,\n",
              "       0.10816127, 0.10933676, 0.58829926, 0.11066559, 0.1385607 ,\n",
              "       0.85608042, 0.93880775, 0.11860547, 0.12697427, 0.077955  ,\n",
              "       0.90488456, 0.50621406, 0.20657464, 0.18624364, 0.10561393,\n",
              "       0.38988849, 0.58598531, 0.38172423, 0.74644288, 0.10569621,\n",
              "       0.28193417, 0.21756062, 0.78447082, 0.10092039, 0.06282623,\n",
              "       0.77787772, 0.13329689, 0.08772546, 0.78528147, 0.16283942,\n",
              "       0.89558236, 0.59180548, 0.10108495, 0.68217267, 0.63142101,\n",
              "       0.74162504, 0.15126123, 0.35292245, 0.09633712, 0.78230042,\n",
              "       0.39568124, 0.87556706, 0.23046379, 0.12697479, 0.04137474,\n",
              "       0.1212204 , 0.70240284, 0.8523715 , 0.28074279, 0.3432533 ,\n",
              "       0.16241197, 0.17229043, 0.09194072, 0.39435839, 0.25168265,\n",
              "       0.63474606, 0.14483023, 0.24039026, 0.11323327, 0.12399015,\n",
              "       0.11088721, 0.50233815, 0.90276946, 0.78893264, 0.07548484,\n",
              "       0.11586581, 0.21258423, 0.09194072, 0.74529137, 0.48318721,\n",
              "       0.08369902, 0.07982841, 0.09953309, 0.41240685, 0.15935529,\n",
              "       0.8123549 , 0.71137746, 0.57199115, 0.889191  , 0.11200677,\n",
              "       0.23257417, 0.24190391, 0.49069818, 0.0995584 , 0.12697583,\n",
              "       0.85497142, 0.90299953, 0.58851917, 0.221335  , 0.88735899,\n",
              "       0.19780264, 0.62856861, 0.72468918, 0.0708484 , 0.06282623,\n",
              "       0.09662822, 0.91624344, 0.91145316, 0.09196116, 0.38867992,\n",
              "       0.07206451, 0.10808774, 0.80749458, 0.07610968, 0.87436918,\n",
              "       0.87613388, 0.06916777, 0.06281792, 0.14483082, 0.0906644 ,\n",
              "       0.91014059, 0.09194072, 0.05294559, 0.64806164, 0.26221083,\n",
              "       0.24103155, 0.59190099, 0.21693183, 0.14492411, 0.5238027 ,\n",
              "       0.6904158 , 0.53436959, 0.56632122, 0.59179069, 0.09735945,\n",
              "       0.68733595, 0.09195526, 0.12518636, 0.07992182, 0.1108487 ,\n",
              "       0.10510377, 0.61275403, 0.21475218, 0.06436144, 0.51925095,\n",
              "       0.21953931, 0.90411901, 0.57247127, 0.4423335 , 0.10581685,\n",
              "       0.1212535 , 0.10562727, 0.10816127, 0.13699919, 0.11325077,\n",
              "       0.32137378, 0.38362966, 0.27530449, 0.59183051, 0.04636804,\n",
              "       0.50550104, 0.86670085, 0.11860547, 0.57633618, 0.92199508,\n",
              "       0.10327953, 0.3118221 , 0.09187983, 0.1105762 , 0.38882756,\n",
              "       0.29872261, 0.86118579, 0.09418979, 0.64826557, 0.11860547,\n",
              "       0.66408229, 0.14836274, 0.0856733 ])"
            ]
          },
          "metadata": {},
          "execution_count": 52
        }
      ]
    },
    {
      "cell_type": "code",
      "source": [
        "lr_predict(X_test, y_test)"
      ],
      "metadata": {
        "colab": {
          "base_uri": "https://localhost:8080/",
          "height": 1000
        },
        "id": "TtHQQx2ukCv8",
        "outputId": "634271b0-e5b9-46e2-cda6-2a4b3da5eccf"
      },
      "execution_count": null,
      "outputs": [
        {
          "output_type": "stream",
          "name": "stdout",
          "text": [
            "Accuracy: 0.7835820895522388\n",
            "F1 Score: 0.7696092962589671\n",
            "              precision    recall  f1-score   support\n",
            "\n",
            "           0       0.79      0.86      0.83       160\n",
            "           1       0.77      0.67      0.71       108\n",
            "\n",
            "    accuracy                           0.78       268\n",
            "   macro avg       0.78      0.76      0.77       268\n",
            "weighted avg       0.78      0.78      0.78       268\n",
            "\n"
          ]
        },
        {
          "output_type": "display_data",
          "data": {
            "text/plain": [
              "<Figure size 432x432 with 2 Axes>"
            ],
            "image/png": "[encoded data removed]"
          },
          "metadata": {
            "needs_background": "light"
          }
        },
        {
          "output_type": "display_data",
          "data": {
            "text/plain": [
              "<Figure size 432x288 with 1 Axes>"
            ],
            "image/png": "[encoded data removed]"
          },
          "metadata": {
            "needs_background": "light"
          }
        },
        {
          "output_type": "stream",
          "name": "stdout",
          "text": [
            "Area under the ROC curve is 0.8377893518518519\n"
          ]
        },
        {
          "output_type": "execute_result",
          "data": {
            "text/plain": [
              "array([0.80921349, 0.9436232 , 0.09195526, 0.84229669, 0.12921818,\n",
              "       0.1186479 , 0.5843996 , 0.10571268, 0.1269774 , 0.09192932,\n",
              "       0.12568304, 0.39123294, 0.11330183, 0.10581418, 0.86769264,\n",
              "       0.19825115, 0.10091014, 0.09201305, 0.08568657, 0.80509004,\n",
              "       0.27651818, 0.09193128, 0.18847964, 0.6085868 , 0.85512544,\n",
              "       0.06747138, 0.47831958, 0.16506031, 0.09256548, 0.5022946 ,\n",
              "       0.85932487, 0.75851711, 0.12687725, 0.53931482, 0.09194072,\n",
              "       0.07787993, 0.87056782, 0.62070545, 0.08186588, 0.6480627 ,\n",
              "       0.69864142, 0.38172423, 0.1269774 , 0.64574383, 0.78346636,\n",
              "       0.09995067, 0.39478413, 0.10569621, 0.21136636, 0.44498755,\n",
              "       0.4129133 , 0.19684045, 0.08980888, 0.85642602, 0.34359968,\n",
              "       0.8293685 , 0.12698732, 0.10562727, 0.67186622, 0.22349818,\n",
              "       0.54248928, 0.18675339, 0.28750674, 0.09195526, 0.09194072,\n",
              "       0.09633712, 0.35982036, 0.36363453, 0.51368011, 0.34103641,\n",
              "       0.57930523, 0.09194072, 0.27651818, 0.1290454 , 0.57355411,\n",
              "       0.10349507, 0.59181686, 0.07607791, 0.18526017, 0.08799308,\n",
              "       0.0837261 , 0.08637274, 0.24160827, 0.09190811, 0.72024752,\n",
              "       0.1212535 , 0.39988412, 0.08773941, 0.12697531, 0.39737076,\n",
              "       0.53931482, 0.09262243, 0.65009547, 0.74514243, 0.72184793,\n",
              "       0.23771882, 0.23046379, 0.88950025, 0.54753068, 0.11589474,\n",
              "       0.09662822, 0.7705575 , 0.76422723, 0.09852015, 0.11068736,\n",
              "       0.83805473, 0.14319715, 0.09187983, 0.21905579, 0.87628883,\n",
              "       0.09662822, 0.90855321, 0.52635216, 0.41878756, 0.13399175,\n",
              "       0.10571268, 0.40264571, 0.14584523, 0.74679265, 0.39601894,\n",
              "       0.12414679, 0.29726271, 0.19685044, 0.43993921, 0.14107313,\n",
              "       0.08898839, 0.58835398, 0.34101102, 0.07982841, 0.05300203,\n",
              "       0.67240505, 0.54142015, 0.6897514 , 0.61482941, 0.39123294,\n",
              "       0.06132524, 0.13815861, 0.7734884 , 0.1159783 , 0.48295333,\n",
              "       0.83884603, 0.28193417, 0.08368819, 0.34203088, 0.09194072,\n",
              "       0.39109842, 0.25690819, 0.13856014, 0.10814719, 0.3173812 ,\n",
              "       0.26507951, 0.18886872, 0.10581685, 0.61067455, 0.26498429,\n",
              "       0.32299289, 0.86567672, 0.59179525, 0.59179525, 0.23046379,\n",
              "       0.73208161, 0.36963677, 0.21801832, 0.09187983, 0.88391825,\n",
              "       0.41696099, 0.86021358, 0.92353275, 0.59183051, 0.78665922,\n",
              "       0.76422723, 0.71240343, 0.71137746, 0.14073479, 0.59179525,\n",
              "       0.02999552, 0.63456761, 0.86659358, 0.44530493, 0.7705575 ,\n",
              "       0.13580046, 0.52968747, 0.18092835, 0.61874415, 0.34891037,\n",
              "       0.11067346, 0.62728001, 0.15351516, 0.92933848, 0.52930987,\n",
              "       0.78719263, 0.84582794, 0.2922556 , 0.06590371, 0.67860356,\n",
              "       0.67319105, 0.14324154, 0.09194072, 0.72954569, 0.77010994,\n",
              "       0.88562856, 0.84783122, 0.20657464, 0.77239974, 0.27160607,\n",
              "       0.04747181, 0.87593135, 0.27708353, 0.09193679, 0.09503045,\n",
              "       0.15070776, 0.79942955, 0.13803759, 0.6820516 , 0.10475037,\n",
              "       0.07262055, 0.08322615, 0.05431109, 0.221335  , 0.10084312,\n",
              "       0.17121664, 0.08368819, 0.3599624 , 0.15485118, 0.37694471,\n",
              "       0.12976688, 0.29100062, 0.09195526, 0.72128052, 0.12686577,\n",
              "       0.42447161, 0.09256548, 0.17480482, 0.28631645, 0.86867029,\n",
              "       0.79573637, 0.2618243 , 0.07313162, 0.75601035, 0.25606207,\n",
              "       0.46612728, 0.49200398, 0.09209213, 0.53712314, 0.92141069,\n",
              "       0.54123433, 0.41540934, 0.11326305, 0.93224256, 0.24718846,\n",
              "       0.15360015, 0.25690819, 0.43666071, 0.92617474, 0.23046379,\n",
              "       0.91067281, 0.22398869, 0.42123345, 0.73956329, 0.121394  ,\n",
              "       0.75607745, 0.11842402, 0.53137366, 0.14374586, 0.20657464,\n",
              "       0.42134729, 0.181655  , 0.23307862])"
            ]
          },
          "metadata": {},
          "execution_count": 53
        }
      ]
    },
    {
      "cell_type": "markdown",
      "source": [
        "The accuracy of training and testing are similar, which means our model is performing well. The precision, recall, F1 Score and AUC/ROC parameters followed this same behavior."
      ],
      "metadata": {
        "id": "MPaD_Qj4ouQ1"
      }
    }
  ]
}